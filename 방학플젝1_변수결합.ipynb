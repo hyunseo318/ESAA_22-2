{
  "nbformat": 4,
  "nbformat_minor": 0,
  "metadata": {
    "colab": {
      "provenance": [],
      "include_colab_link": true
    },
    "kernelspec": {
      "name": "python3",
      "display_name": "Python 3"
    },
    "language_info": {
      "name": "python"
    }
  },
  "cells": [
    {
      "cell_type": "markdown",
      "metadata": {
        "id": "view-in-github",
        "colab_type": "text"
      },
      "source": [
        "<a href=\"https://colab.research.google.com/github/hyunseo318/ESAA/blob/main/%EB%B0%A9%ED%95%99%ED%94%8C%EC%A0%9D1_%EB%B3%80%EC%88%98%EA%B2%B0%ED%95%A9.ipynb\" target=\"_parent\"><img src=\"https://colab.research.google.com/assets/colab-badge.svg\" alt=\"Open In Colab\"/></a>"
      ]
    },
    {
      "cell_type": "markdown",
      "source": [
        "# **유전체 정보 품종 분류 AI 경진대회**\n",
        "###**배경**\n",
        "유전체 염기서열에서 획득한 유전체 변이 정보인 Single Nucleotide Polymorphism 정보는 특정 개체 및 특정 품종에 따라 다른 변이 양상을 나타낼 수 있기 때문에 동일개체를 확인하거나,동일 품종을 구분하는데 활용이 가능합니다. 따라서 이번 경진대회에서는 개체 정보와 SNP 정보를 이용하여 A, B, C 품종을 분류하는 최고의 품종구분 정확도를 획득하는 것이 목표입니다.\n",
        "농축수산 현장에서는 유전체 변이정보를 이용해서 품종을 구분하는 연구를 통해 품종의 다양성 혹은 품종 부정유통을 방지하기 위해 많이 활용하게 됩니다.\n",
        "\n",
        "\n",
        "###**주제**\n",
        "개체와 SNP 정보를 이용하여 품종 분류 AI 모델 개발\n",
        "\n",
        "\n",
        "\n",
        "###**설명**\n",
        "시장에서 세 품종이 동시에 유통될 때, 각 품종의 고유한 생산품목(우유 및 식육)의 가치 및 가격 산정에 부정유통이 차단되기 위해 현장에서 사용 할 수 있는 AI 모델이 필요합니다.\n",
        "\n",
        "즉, 많은 SNP 정보를 통해 분류하는 것보다, 보다 더 적은 SNP 정보로 높은 분류 성능을 내는 것이 중요합니다.\n",
        "\n",
        "따라서 이번 경진대회에서는 개체 정보와 사전에 구성된 15개의 SNP 정보를 바탕으로 품종 분류 모델을 개발해야 합니다.\n",
        "\n"
      ],
      "metadata": {
        "id": "WgU8nIDr5k8z"
      }
    },
    {
      "cell_type": "markdown",
      "source": [
        "##**1. 데이터 불러오기**"
      ],
      "metadata": {
        "id": "EHHS5MZn6Xns"
      }
    },
    {
      "cell_type": "code",
      "execution_count": null,
      "metadata": {
        "id": "2R-P2UlztG9R"
      },
      "outputs": [],
      "source": [
        "import pandas as pd\n",
        "import random\n",
        "import os\n",
        "import numpy as np\n",
        "\n",
        "from sklearn import preprocessing\n",
        "from sklearn.ensemble import RandomForestClassifier"
      ]
    },
    {
      "cell_type": "code",
      "source": [
        "class CFG:\n",
        "    SEED = 42\n",
        "def seed_everything(seed):\n",
        "    random.seed(seed)\n",
        "    os.environ['PYTHONHASHSEED'] = str(seed)\n",
        "    np.random.seed(seed)\n",
        "seed_everything(CFG.SEED) # Seed 고정"
      ],
      "metadata": {
        "id": "F6htYQ0dx08Y"
      },
      "execution_count": null,
      "outputs": []
    },
    {
      "cell_type": "code",
      "source": [
        "from google.colab import drive\n",
        "drive.mount('/content/drive')"
      ],
      "metadata": {
        "colab": {
          "base_uri": "https://localhost:8080/"
        },
        "id": "ybZ7fmVGEbZa",
        "outputId": "e936ee0c-a0c7-4a5c-fe52-5b6e24bae018"
      },
      "execution_count": null,
      "outputs": [
        {
          "output_type": "stream",
          "name": "stdout",
          "text": [
            "Drive already mounted at /content/drive; to attempt to forcibly remount, call drive.mount(\"/content/drive\", force_remount=True).\n"
          ]
        }
      ]
    },
    {
      "cell_type": "code",
      "source": [
        "train = pd.read_csv(\"/content/drive/MyDrive/ESAA/dacon/open/train.csv\")\n",
        "test = pd.read_csv(\"/content/drive/MyDrive/ESAA/dacon/open/test.csv\")\n",
        "snp_info = pd.read_csv(\"/content/drive/MyDrive/ESAA/dacon/open/snp_info.csv\")\n",
        "# train = pd.read_csv(\"/content/drive/MyDrive/ESAA/방학/DATA/train.csv\")\n",
        "# test = pd.read_csv('/content/drive/MyDrive/ESAA/방학/DATA/test.csv')\n",
        "# submission = pd.read_csv('/content/drive/MyDrive/ESAA/방학/DATA/sample_submission.csv')\n",
        "# train=pd.read_csv('/content/drive/MyDrive/readcsv/유전체/train.csv')\n",
        "# test=pd.read_csv('/content/drive/MyDrive/readcsv/유전체/test.csv')\n",
        "# submit = pd.read_csv('/content/drive/MyDrive/readcsv/유전체/sample_submission.csv')"
      ],
      "metadata": {
        "id": "0MyquObFuEif"
      },
      "execution_count": null,
      "outputs": []
    },
    {
      "cell_type": "code",
      "source": [
        "train.head() #data에 null 없음 #father, mother, gender는 다 0"
      ],
      "metadata": {
        "colab": {
          "base_uri": "https://localhost:8080/",
          "height": 300
        },
        "id": "Gbn5zNypuOkD",
        "outputId": "c853add2-a71d-4b4a-e142-bf2a6bee372f"
      },
      "execution_count": null,
      "outputs": [
        {
          "output_type": "execute_result",
          "data": {
            "text/plain": [
              "          id  father  mother  gender  trait SNP_01 SNP_02 SNP_03 SNP_04  \\\n",
              "0  TRAIN_000       0       0       0      2    G G    A G    A A    G A   \n",
              "1  TRAIN_001       0       0       0      2    A G    A G    C A    A A   \n",
              "2  TRAIN_002       0       0       0      2    G G    G G    A A    G A   \n",
              "3  TRAIN_003       0       0       0      1    A A    G G    A A    G A   \n",
              "4  TRAIN_004       0       0       0      2    G G    G G    C C    A A   \n",
              "\n",
              "  SNP_05  ... SNP_07 SNP_08 SNP_09 SNP_10 SNP_11 SNP_12 SNP_13 SNP_14 SNP_15  \\\n",
              "0    C A  ...    A A    G G    A A    G G    A G    A A    A A    A A    A A   \n",
              "1    A A  ...    A A    G A    A A    A G    A A    G A    G G    A A    A A   \n",
              "2    C C  ...    A A    G A    G A    A G    A A    A A    A A    A A    A A   \n",
              "3    A A  ...    G G    A A    G G    A G    G G    G G    G G    A A    G G   \n",
              "4    C C  ...    A A    A A    A A    G G    A A    A A    A G    A A    G A   \n",
              "\n",
              "  class  \n",
              "0     B  \n",
              "1     C  \n",
              "2     B  \n",
              "3     A  \n",
              "4     C  \n",
              "\n",
              "[5 rows x 21 columns]"
            ],
            "text/html": [
              "\n",
              "  <div id=\"df-7d7de542-79da-47ee-a458-c4bb9bcafa74\">\n",
              "    <div class=\"colab-df-container\">\n",
              "      <div>\n",
              "<style scoped>\n",
              "    .dataframe tbody tr th:only-of-type {\n",
              "        vertical-align: middle;\n",
              "    }\n",
              "\n",
              "    .dataframe tbody tr th {\n",
              "        vertical-align: top;\n",
              "    }\n",
              "\n",
              "    .dataframe thead th {\n",
              "        text-align: right;\n",
              "    }\n",
              "</style>\n",
              "<table border=\"1\" class=\"dataframe\">\n",
              "  <thead>\n",
              "    <tr style=\"text-align: right;\">\n",
              "      <th></th>\n",
              "      <th>id</th>\n",
              "      <th>father</th>\n",
              "      <th>mother</th>\n",
              "      <th>gender</th>\n",
              "      <th>trait</th>\n",
              "      <th>SNP_01</th>\n",
              "      <th>SNP_02</th>\n",
              "      <th>SNP_03</th>\n",
              "      <th>SNP_04</th>\n",
              "      <th>SNP_05</th>\n",
              "      <th>...</th>\n",
              "      <th>SNP_07</th>\n",
              "      <th>SNP_08</th>\n",
              "      <th>SNP_09</th>\n",
              "      <th>SNP_10</th>\n",
              "      <th>SNP_11</th>\n",
              "      <th>SNP_12</th>\n",
              "      <th>SNP_13</th>\n",
              "      <th>SNP_14</th>\n",
              "      <th>SNP_15</th>\n",
              "      <th>class</th>\n",
              "    </tr>\n",
              "  </thead>\n",
              "  <tbody>\n",
              "    <tr>\n",
              "      <th>0</th>\n",
              "      <td>TRAIN_000</td>\n",
              "      <td>0</td>\n",
              "      <td>0</td>\n",
              "      <td>0</td>\n",
              "      <td>2</td>\n",
              "      <td>G G</td>\n",
              "      <td>A G</td>\n",
              "      <td>A A</td>\n",
              "      <td>G A</td>\n",
              "      <td>C A</td>\n",
              "      <td>...</td>\n",
              "      <td>A A</td>\n",
              "      <td>G G</td>\n",
              "      <td>A A</td>\n",
              "      <td>G G</td>\n",
              "      <td>A G</td>\n",
              "      <td>A A</td>\n",
              "      <td>A A</td>\n",
              "      <td>A A</td>\n",
              "      <td>A A</td>\n",
              "      <td>B</td>\n",
              "    </tr>\n",
              "    <tr>\n",
              "      <th>1</th>\n",
              "      <td>TRAIN_001</td>\n",
              "      <td>0</td>\n",
              "      <td>0</td>\n",
              "      <td>0</td>\n",
              "      <td>2</td>\n",
              "      <td>A G</td>\n",
              "      <td>A G</td>\n",
              "      <td>C A</td>\n",
              "      <td>A A</td>\n",
              "      <td>A A</td>\n",
              "      <td>...</td>\n",
              "      <td>A A</td>\n",
              "      <td>G A</td>\n",
              "      <td>A A</td>\n",
              "      <td>A G</td>\n",
              "      <td>A A</td>\n",
              "      <td>G A</td>\n",
              "      <td>G G</td>\n",
              "      <td>A A</td>\n",
              "      <td>A A</td>\n",
              "      <td>C</td>\n",
              "    </tr>\n",
              "    <tr>\n",
              "      <th>2</th>\n",
              "      <td>TRAIN_002</td>\n",
              "      <td>0</td>\n",
              "      <td>0</td>\n",
              "      <td>0</td>\n",
              "      <td>2</td>\n",
              "      <td>G G</td>\n",
              "      <td>G G</td>\n",
              "      <td>A A</td>\n",
              "      <td>G A</td>\n",
              "      <td>C C</td>\n",
              "      <td>...</td>\n",
              "      <td>A A</td>\n",
              "      <td>G A</td>\n",
              "      <td>G A</td>\n",
              "      <td>A G</td>\n",
              "      <td>A A</td>\n",
              "      <td>A A</td>\n",
              "      <td>A A</td>\n",
              "      <td>A A</td>\n",
              "      <td>A A</td>\n",
              "      <td>B</td>\n",
              "    </tr>\n",
              "    <tr>\n",
              "      <th>3</th>\n",
              "      <td>TRAIN_003</td>\n",
              "      <td>0</td>\n",
              "      <td>0</td>\n",
              "      <td>0</td>\n",
              "      <td>1</td>\n",
              "      <td>A A</td>\n",
              "      <td>G G</td>\n",
              "      <td>A A</td>\n",
              "      <td>G A</td>\n",
              "      <td>A A</td>\n",
              "      <td>...</td>\n",
              "      <td>G G</td>\n",
              "      <td>A A</td>\n",
              "      <td>G G</td>\n",
              "      <td>A G</td>\n",
              "      <td>G G</td>\n",
              "      <td>G G</td>\n",
              "      <td>G G</td>\n",
              "      <td>A A</td>\n",
              "      <td>G G</td>\n",
              "      <td>A</td>\n",
              "    </tr>\n",
              "    <tr>\n",
              "      <th>4</th>\n",
              "      <td>TRAIN_004</td>\n",
              "      <td>0</td>\n",
              "      <td>0</td>\n",
              "      <td>0</td>\n",
              "      <td>2</td>\n",
              "      <td>G G</td>\n",
              "      <td>G G</td>\n",
              "      <td>C C</td>\n",
              "      <td>A A</td>\n",
              "      <td>C C</td>\n",
              "      <td>...</td>\n",
              "      <td>A A</td>\n",
              "      <td>A A</td>\n",
              "      <td>A A</td>\n",
              "      <td>G G</td>\n",
              "      <td>A A</td>\n",
              "      <td>A A</td>\n",
              "      <td>A G</td>\n",
              "      <td>A A</td>\n",
              "      <td>G A</td>\n",
              "      <td>C</td>\n",
              "    </tr>\n",
              "  </tbody>\n",
              "</table>\n",
              "<p>5 rows × 21 columns</p>\n",
              "</div>\n",
              "      <button class=\"colab-df-convert\" onclick=\"convertToInteractive('df-7d7de542-79da-47ee-a458-c4bb9bcafa74')\"\n",
              "              title=\"Convert this dataframe to an interactive table.\"\n",
              "              style=\"display:none;\">\n",
              "        \n",
              "  <svg xmlns=\"http://www.w3.org/2000/svg\" height=\"24px\"viewBox=\"0 0 24 24\"\n",
              "       width=\"24px\">\n",
              "    <path d=\"M0 0h24v24H0V0z\" fill=\"none\"/>\n",
              "    <path d=\"M18.56 5.44l.94 2.06.94-2.06 2.06-.94-2.06-.94-.94-2.06-.94 2.06-2.06.94zm-11 1L8.5 8.5l.94-2.06 2.06-.94-2.06-.94L8.5 2.5l-.94 2.06-2.06.94zm10 10l.94 2.06.94-2.06 2.06-.94-2.06-.94-.94-2.06-.94 2.06-2.06.94z\"/><path d=\"M17.41 7.96l-1.37-1.37c-.4-.4-.92-.59-1.43-.59-.52 0-1.04.2-1.43.59L10.3 9.45l-7.72 7.72c-.78.78-.78 2.05 0 2.83L4 21.41c.39.39.9.59 1.41.59.51 0 1.02-.2 1.41-.59l7.78-7.78 2.81-2.81c.8-.78.8-2.07 0-2.86zM5.41 20L4 18.59l7.72-7.72 1.47 1.35L5.41 20z\"/>\n",
              "  </svg>\n",
              "      </button>\n",
              "      \n",
              "  <style>\n",
              "    .colab-df-container {\n",
              "      display:flex;\n",
              "      flex-wrap:wrap;\n",
              "      gap: 12px;\n",
              "    }\n",
              "\n",
              "    .colab-df-convert {\n",
              "      background-color: #E8F0FE;\n",
              "      border: none;\n",
              "      border-radius: 50%;\n",
              "      cursor: pointer;\n",
              "      display: none;\n",
              "      fill: #1967D2;\n",
              "      height: 32px;\n",
              "      padding: 0 0 0 0;\n",
              "      width: 32px;\n",
              "    }\n",
              "\n",
              "    .colab-df-convert:hover {\n",
              "      background-color: #E2EBFA;\n",
              "      box-shadow: 0px 1px 2px rgba(60, 64, 67, 0.3), 0px 1px 3px 1px rgba(60, 64, 67, 0.15);\n",
              "      fill: #174EA6;\n",
              "    }\n",
              "\n",
              "    [theme=dark] .colab-df-convert {\n",
              "      background-color: #3B4455;\n",
              "      fill: #D2E3FC;\n",
              "    }\n",
              "\n",
              "    [theme=dark] .colab-df-convert:hover {\n",
              "      background-color: #434B5C;\n",
              "      box-shadow: 0px 1px 3px 1px rgba(0, 0, 0, 0.15);\n",
              "      filter: drop-shadow(0px 1px 2px rgba(0, 0, 0, 0.3));\n",
              "      fill: #FFFFFF;\n",
              "    }\n",
              "  </style>\n",
              "\n",
              "      <script>\n",
              "        const buttonEl =\n",
              "          document.querySelector('#df-7d7de542-79da-47ee-a458-c4bb9bcafa74 button.colab-df-convert');\n",
              "        buttonEl.style.display =\n",
              "          google.colab.kernel.accessAllowed ? 'block' : 'none';\n",
              "\n",
              "        async function convertToInteractive(key) {\n",
              "          const element = document.querySelector('#df-7d7de542-79da-47ee-a458-c4bb9bcafa74');\n",
              "          const dataTable =\n",
              "            await google.colab.kernel.invokeFunction('convertToInteractive',\n",
              "                                                     [key], {});\n",
              "          if (!dataTable) return;\n",
              "\n",
              "          const docLinkHtml = 'Like what you see? Visit the ' +\n",
              "            '<a target=\"_blank\" href=https://colab.research.google.com/notebooks/data_table.ipynb>data table notebook</a>'\n",
              "            + ' to learn more about interactive tables.';\n",
              "          element.innerHTML = '';\n",
              "          dataTable['output_type'] = 'display_data';\n",
              "          await google.colab.output.renderOutput(dataTable, element);\n",
              "          const docLink = document.createElement('div');\n",
              "          docLink.innerHTML = docLinkHtml;\n",
              "          element.appendChild(docLink);\n",
              "        }\n",
              "      </script>\n",
              "    </div>\n",
              "  </div>\n",
              "  "
            ]
          },
          "metadata": {},
          "execution_count": 137
        }
      ]
    },
    {
      "cell_type": "code",
      "source": [
        "test.head()"
      ],
      "metadata": {
        "colab": {
          "base_uri": "https://localhost:8080/",
          "height": 270
        },
        "id": "3MKsleEeudwE",
        "outputId": "f5ad0521-3a1b-41b5-f792-e2aa8a511e9a"
      },
      "execution_count": null,
      "outputs": [
        {
          "output_type": "execute_result",
          "data": {
            "text/plain": [
              "         id  father  mother  gender  trait SNP_01 SNP_02 SNP_03 SNP_04 SNP_05  \\\n",
              "0  TEST_000       0       0       0      1    A G    G G    A A    G A    A A   \n",
              "1  TEST_001       0       0       0      2    G G    A G    C C    G G    C C   \n",
              "2  TEST_002       0       0       0      2    G G    A G    A A    A A    C A   \n",
              "3  TEST_003       0       0       0      2    G G    A G    C A    A A    C C   \n",
              "4  TEST_004       0       0       0      1    A A    G G    A A    G G    A A   \n",
              "\n",
              "  SNP_06 SNP_07 SNP_08 SNP_09 SNP_10 SNP_11 SNP_12 SNP_13 SNP_14 SNP_15  \n",
              "0    A G    G G    G A    G A    A G    A G    G A    G G    C A    G A  \n",
              "1    A A    A A    A A    A A    G G    A G    A A    A A    A A    A A  \n",
              "2    A G    A A    A A    A A    A G    A A    G A    G G    A A    G G  \n",
              "3    A A    A A    A A    A A    G G    A A    G A    A G    A A    A A  \n",
              "4    G G    G G    A A    G G    A G    G G    G A    G G    A A    G G  "
            ],
            "text/html": [
              "\n",
              "  <div id=\"df-b6715a4d-e099-416e-a206-2e26b0a2f09b\">\n",
              "    <div class=\"colab-df-container\">\n",
              "      <div>\n",
              "<style scoped>\n",
              "    .dataframe tbody tr th:only-of-type {\n",
              "        vertical-align: middle;\n",
              "    }\n",
              "\n",
              "    .dataframe tbody tr th {\n",
              "        vertical-align: top;\n",
              "    }\n",
              "\n",
              "    .dataframe thead th {\n",
              "        text-align: right;\n",
              "    }\n",
              "</style>\n",
              "<table border=\"1\" class=\"dataframe\">\n",
              "  <thead>\n",
              "    <tr style=\"text-align: right;\">\n",
              "      <th></th>\n",
              "      <th>id</th>\n",
              "      <th>father</th>\n",
              "      <th>mother</th>\n",
              "      <th>gender</th>\n",
              "      <th>trait</th>\n",
              "      <th>SNP_01</th>\n",
              "      <th>SNP_02</th>\n",
              "      <th>SNP_03</th>\n",
              "      <th>SNP_04</th>\n",
              "      <th>SNP_05</th>\n",
              "      <th>SNP_06</th>\n",
              "      <th>SNP_07</th>\n",
              "      <th>SNP_08</th>\n",
              "      <th>SNP_09</th>\n",
              "      <th>SNP_10</th>\n",
              "      <th>SNP_11</th>\n",
              "      <th>SNP_12</th>\n",
              "      <th>SNP_13</th>\n",
              "      <th>SNP_14</th>\n",
              "      <th>SNP_15</th>\n",
              "    </tr>\n",
              "  </thead>\n",
              "  <tbody>\n",
              "    <tr>\n",
              "      <th>0</th>\n",
              "      <td>TEST_000</td>\n",
              "      <td>0</td>\n",
              "      <td>0</td>\n",
              "      <td>0</td>\n",
              "      <td>1</td>\n",
              "      <td>A G</td>\n",
              "      <td>G G</td>\n",
              "      <td>A A</td>\n",
              "      <td>G A</td>\n",
              "      <td>A A</td>\n",
              "      <td>A G</td>\n",
              "      <td>G G</td>\n",
              "      <td>G A</td>\n",
              "      <td>G A</td>\n",
              "      <td>A G</td>\n",
              "      <td>A G</td>\n",
              "      <td>G A</td>\n",
              "      <td>G G</td>\n",
              "      <td>C A</td>\n",
              "      <td>G A</td>\n",
              "    </tr>\n",
              "    <tr>\n",
              "      <th>1</th>\n",
              "      <td>TEST_001</td>\n",
              "      <td>0</td>\n",
              "      <td>0</td>\n",
              "      <td>0</td>\n",
              "      <td>2</td>\n",
              "      <td>G G</td>\n",
              "      <td>A G</td>\n",
              "      <td>C C</td>\n",
              "      <td>G G</td>\n",
              "      <td>C C</td>\n",
              "      <td>A A</td>\n",
              "      <td>A A</td>\n",
              "      <td>A A</td>\n",
              "      <td>A A</td>\n",
              "      <td>G G</td>\n",
              "      <td>A G</td>\n",
              "      <td>A A</td>\n",
              "      <td>A A</td>\n",
              "      <td>A A</td>\n",
              "      <td>A A</td>\n",
              "    </tr>\n",
              "    <tr>\n",
              "      <th>2</th>\n",
              "      <td>TEST_002</td>\n",
              "      <td>0</td>\n",
              "      <td>0</td>\n",
              "      <td>0</td>\n",
              "      <td>2</td>\n",
              "      <td>G G</td>\n",
              "      <td>A G</td>\n",
              "      <td>A A</td>\n",
              "      <td>A A</td>\n",
              "      <td>C A</td>\n",
              "      <td>A G</td>\n",
              "      <td>A A</td>\n",
              "      <td>A A</td>\n",
              "      <td>A A</td>\n",
              "      <td>A G</td>\n",
              "      <td>A A</td>\n",
              "      <td>G A</td>\n",
              "      <td>G G</td>\n",
              "      <td>A A</td>\n",
              "      <td>G G</td>\n",
              "    </tr>\n",
              "    <tr>\n",
              "      <th>3</th>\n",
              "      <td>TEST_003</td>\n",
              "      <td>0</td>\n",
              "      <td>0</td>\n",
              "      <td>0</td>\n",
              "      <td>2</td>\n",
              "      <td>G G</td>\n",
              "      <td>A G</td>\n",
              "      <td>C A</td>\n",
              "      <td>A A</td>\n",
              "      <td>C C</td>\n",
              "      <td>A A</td>\n",
              "      <td>A A</td>\n",
              "      <td>A A</td>\n",
              "      <td>A A</td>\n",
              "      <td>G G</td>\n",
              "      <td>A A</td>\n",
              "      <td>G A</td>\n",
              "      <td>A G</td>\n",
              "      <td>A A</td>\n",
              "      <td>A A</td>\n",
              "    </tr>\n",
              "    <tr>\n",
              "      <th>4</th>\n",
              "      <td>TEST_004</td>\n",
              "      <td>0</td>\n",
              "      <td>0</td>\n",
              "      <td>0</td>\n",
              "      <td>1</td>\n",
              "      <td>A A</td>\n",
              "      <td>G G</td>\n",
              "      <td>A A</td>\n",
              "      <td>G G</td>\n",
              "      <td>A A</td>\n",
              "      <td>G G</td>\n",
              "      <td>G G</td>\n",
              "      <td>A A</td>\n",
              "      <td>G G</td>\n",
              "      <td>A G</td>\n",
              "      <td>G G</td>\n",
              "      <td>G A</td>\n",
              "      <td>G G</td>\n",
              "      <td>A A</td>\n",
              "      <td>G G</td>\n",
              "    </tr>\n",
              "  </tbody>\n",
              "</table>\n",
              "</div>\n",
              "      <button class=\"colab-df-convert\" onclick=\"convertToInteractive('df-b6715a4d-e099-416e-a206-2e26b0a2f09b')\"\n",
              "              title=\"Convert this dataframe to an interactive table.\"\n",
              "              style=\"display:none;\">\n",
              "        \n",
              "  <svg xmlns=\"http://www.w3.org/2000/svg\" height=\"24px\"viewBox=\"0 0 24 24\"\n",
              "       width=\"24px\">\n",
              "    <path d=\"M0 0h24v24H0V0z\" fill=\"none\"/>\n",
              "    <path d=\"M18.56 5.44l.94 2.06.94-2.06 2.06-.94-2.06-.94-.94-2.06-.94 2.06-2.06.94zm-11 1L8.5 8.5l.94-2.06 2.06-.94-2.06-.94L8.5 2.5l-.94 2.06-2.06.94zm10 10l.94 2.06.94-2.06 2.06-.94-2.06-.94-.94-2.06-.94 2.06-2.06.94z\"/><path d=\"M17.41 7.96l-1.37-1.37c-.4-.4-.92-.59-1.43-.59-.52 0-1.04.2-1.43.59L10.3 9.45l-7.72 7.72c-.78.78-.78 2.05 0 2.83L4 21.41c.39.39.9.59 1.41.59.51 0 1.02-.2 1.41-.59l7.78-7.78 2.81-2.81c.8-.78.8-2.07 0-2.86zM5.41 20L4 18.59l7.72-7.72 1.47 1.35L5.41 20z\"/>\n",
              "  </svg>\n",
              "      </button>\n",
              "      \n",
              "  <style>\n",
              "    .colab-df-container {\n",
              "      display:flex;\n",
              "      flex-wrap:wrap;\n",
              "      gap: 12px;\n",
              "    }\n",
              "\n",
              "    .colab-df-convert {\n",
              "      background-color: #E8F0FE;\n",
              "      border: none;\n",
              "      border-radius: 50%;\n",
              "      cursor: pointer;\n",
              "      display: none;\n",
              "      fill: #1967D2;\n",
              "      height: 32px;\n",
              "      padding: 0 0 0 0;\n",
              "      width: 32px;\n",
              "    }\n",
              "\n",
              "    .colab-df-convert:hover {\n",
              "      background-color: #E2EBFA;\n",
              "      box-shadow: 0px 1px 2px rgba(60, 64, 67, 0.3), 0px 1px 3px 1px rgba(60, 64, 67, 0.15);\n",
              "      fill: #174EA6;\n",
              "    }\n",
              "\n",
              "    [theme=dark] .colab-df-convert {\n",
              "      background-color: #3B4455;\n",
              "      fill: #D2E3FC;\n",
              "    }\n",
              "\n",
              "    [theme=dark] .colab-df-convert:hover {\n",
              "      background-color: #434B5C;\n",
              "      box-shadow: 0px 1px 3px 1px rgba(0, 0, 0, 0.15);\n",
              "      filter: drop-shadow(0px 1px 2px rgba(0, 0, 0, 0.3));\n",
              "      fill: #FFFFFF;\n",
              "    }\n",
              "  </style>\n",
              "\n",
              "      <script>\n",
              "        const buttonEl =\n",
              "          document.querySelector('#df-b6715a4d-e099-416e-a206-2e26b0a2f09b button.colab-df-convert');\n",
              "        buttonEl.style.display =\n",
              "          google.colab.kernel.accessAllowed ? 'block' : 'none';\n",
              "\n",
              "        async function convertToInteractive(key) {\n",
              "          const element = document.querySelector('#df-b6715a4d-e099-416e-a206-2e26b0a2f09b');\n",
              "          const dataTable =\n",
              "            await google.colab.kernel.invokeFunction('convertToInteractive',\n",
              "                                                     [key], {});\n",
              "          if (!dataTable) return;\n",
              "\n",
              "          const docLinkHtml = 'Like what you see? Visit the ' +\n",
              "            '<a target=\"_blank\" href=https://colab.research.google.com/notebooks/data_table.ipynb>data table notebook</a>'\n",
              "            + ' to learn more about interactive tables.';\n",
              "          element.innerHTML = '';\n",
              "          dataTable['output_type'] = 'display_data';\n",
              "          await google.colab.output.renderOutput(dataTable, element);\n",
              "          const docLink = document.createElement('div');\n",
              "          docLink.innerHTML = docLinkHtml;\n",
              "          element.appendChild(docLink);\n",
              "        }\n",
              "      </script>\n",
              "    </div>\n",
              "  </div>\n",
              "  "
            ]
          },
          "metadata": {},
          "execution_count": 138
        }
      ]
    },
    {
      "cell_type": "code",
      "source": [
        "def get_x_y(df):\n",
        "    if 'class' in df.columns:\n",
        "        df_x = df.drop(columns=['id', 'class'])\n",
        "        df_y = df['class']\n",
        "        return df_x, df_y\n",
        "    else:\n",
        "        df_x = df.drop(columns=['id'])\n",
        "        return df_x"
      ],
      "metadata": {
        "id": "IIMrgUHFuf04"
      },
      "execution_count": null,
      "outputs": []
    },
    {
      "cell_type": "code",
      "source": [
        "train_x, train_y = get_x_y(train)\n",
        "test_x = get_x_y(test)"
      ],
      "metadata": {
        "id": "7PJ4ucAGx_GW"
      },
      "execution_count": null,
      "outputs": []
    },
    {
      "cell_type": "markdown",
      "source": [
        "## **2. EDA**"
      ],
      "metadata": {
        "id": "BLl7B1Ib7zIf"
      }
    },
    {
      "cell_type": "code",
      "source": [
        "for g in train.columns[train.columns.str.contains('SNP')].tolist()+['trait']:\n",
        "    train.groupby(g)['class'].value_counts().unstack().plot.bar(figsize=(5,3));"
      ],
      "metadata": {
        "colab": {
          "base_uri": "https://localhost:8080/",
          "height": 1000
        },
        "id": "H5Rgzxw57vdQ",
        "outputId": "0a7f6636-221e-4441-9427-f4e567083dd5"
      },
      "execution_count": null,
      "outputs": [
        {
          "output_type": "display_data",
          "data": {
            "text/plain": [
              "<Figure size 360x216 with 1 Axes>"
            ],
            "image/png": "[encoded data removed]"
          },
          "metadata": {
            "needs_background": "light"
          }
        },
        {
          "output_type": "display_data",
          "data": {
            "text/plain": [
              "<Figure size 360x216 with 1 Axes>"
            ],
            "image/png": "[encoded data removed]"
          },
          "metadata": {
            "needs_background": "light"
          }
        },
        {
          "output_type": "display_data",
          "data": {
            "text/plain": [
              "<Figure size 360x216 with 1 Axes>"
            ],
            "image/png": "[encoded data removed]"
          },
          "metadata": {
            "needs_background": "light"
          }
        },
        {
          "output_type": "display_data",
          "data": {
            "text/plain": [
              "<Figure size 360x216 with 1 Axes>"
            ],
            "image/png": "[encoded data removed]"
          },
          "metadata": {
            "needs_background": "light"
          }
        },
        {
          "output_type": "display_data",
          "data": {
            "text/plain": [
              "<Figure size 360x216 with 1 Axes>"
            ],
            "image/png": "[encoded data removed]"
          },
          "metadata": {
            "needs_background": "light"
          }
        },
        {
          "output_type": "display_data",
          "data": {
            "text/plain": [
              "<Figure size 360x216 with 1 Axes>"
            ],
            "image/png": "[encoded data removed]"
          },
          "metadata": {
            "needs_background": "light"
          }
        },
        {
          "output_type": "display_data",
          "data": {
            "text/plain": [
              "<Figure size 360x216 with 1 Axes>"
            ],
            "image/png": "[encoded data removed]"
          },
          "metadata": {
            "needs_background": "light"
          }
        },
        {
          "output_type": "display_data",
          "data": {
            "text/plain": [
              "<Figure size 360x216 with 1 Axes>"
            ],
            "image/png": "[encoded data removed]"
          },
          "metadata": {
            "needs_background": "light"
          }
        },
        {
          "output_type": "display_data",
          "data": {
            "text/plain": [
              "<Figure size 360x216 with 1 Axes>"
            ],
            "image/png": "[encoded data removed]"
          },
          "metadata": {
            "needs_background": "light"
          }
        },
        {
          "output_type": "display_data",
          "data": {
            "text/plain": [
              "<Figure size 360x216 with 1 Axes>"
            ],
            "image/png": "[encoded data removed]"
          },
          "metadata": {
            "needs_background": "light"
          }
        },
        {
          "output_type": "display_data",
          "data": {
            "text/plain": [
              "<Figure size 360x216 with 1 Axes>"
            ],
            "image/png": "[encoded data removed]"
          },
          "metadata": {
            "needs_background": "light"
          }
        },
        {
          "output_type": "display_data",
          "data": {
            "text/plain": [
              "<Figure size 360x216 with 1 Axes>"
            ],
            "image/png": "[encoded data removed]"
          },
          "metadata": {
            "needs_background": "light"
          }
        },
        {
          "output_type": "display_data",
          "data": {
            "text/plain": [
              "<Figure size 360x216 with 1 Axes>"
            ],
            "image/png": "[encoded data removed]"
          },
          "metadata": {
            "needs_background": "light"
          }
        },
        {
          "output_type": "display_data",
          "data": {
            "text/plain": [
              "<Figure size 360x216 with 1 Axes>"
            ],
            "image/png": "[encoded data removed]"
          },
          "metadata": {
            "needs_background": "light"
          }
        },
        {
          "output_type": "display_data",
          "data": {
            "text/plain": [
              "<Figure size 360x216 with 1 Axes>"
            ],
            "image/png": "[encoded data removed]"
          },
          "metadata": {
            "needs_background": "light"
          }
        },
        {
          "output_type": "display_data",
          "data": {
            "text/plain": [
              "<Figure size 360x216 with 1 Axes>"
            ],
            "image/png": "[encoded data removed]"
          },
          "metadata": {
            "needs_background": "light"
          }
        }
      ]
    },
    {
      "cell_type": "code",
      "source": [
        "#target\n",
        "train['class'].value_counts().plot.bar(figsize=(5,3))"
      ],
      "metadata": {
        "colab": {
          "base_uri": "https://localhost:8080/",
          "height": 226
        },
        "id": "mAR-98VAWK8t",
        "outputId": "c9155cf2-0037-4963-874e-85e0aac2c4d5"
      },
      "execution_count": null,
      "outputs": [
        {
          "output_type": "execute_result",
          "data": {
            "text/plain": [
              "<matplotlib.axes._subplots.AxesSubplot at 0x7f7903eed6d0>"
            ]
          },
          "metadata": {},
          "execution_count": 142
        },
        {
          "output_type": "display_data",
          "data": {
            "text/plain": [
              "<Figure size 360x216 with 1 Axes>"
            ],
            "image/png": "[encoded data removed]"
          },
          "metadata": {
            "needs_background": "light"
          }
        }
      ]
    },
    {
      "cell_type": "code",
      "source": [
        "#train test 비교\n",
        "train['data'] = 'train'\n",
        "test['data'] = 'test'\n",
        "tmp = pd.concat([train,test]).reset_index(drop=True)\n",
        "for g in tmp.columns[tmp.columns.str.contains('SNP')].tolist()+['trait']:   \n",
        "    tmp.groupby([g])['data'].value_counts().unstack().plot.bar(figsize=(7,3));"
      ],
      "metadata": {
        "colab": {
          "base_uri": "https://localhost:8080/",
          "height": 1000
        },
        "id": "5z2X6ZWpWTwU",
        "outputId": "dd1ee58b-5fc2-4d11-d296-75342efd824a"
      },
      "execution_count": null,
      "outputs": [
        {
          "output_type": "display_data",
          "data": {
            "text/plain": [
              "<Figure size 504x216 with 1 Axes>"
            ],
            "image/png": "[encoded data removed]"
          },
          "metadata": {
            "needs_background": "light"
          }
        },
        {
          "output_type": "display_data",
          "data": {
            "text/plain": [
              "<Figure size 504x216 with 1 Axes>"
            ],
            "image/png": "[encoded data removed]"
          },
          "metadata": {
            "needs_background": "light"
          }
        },
        {
          "output_type": "display_data",
          "data": {
            "text/plain": [
              "<Figure size 504x216 with 1 Axes>"
            ],
            "image/png": "[encoded data removed]"
          },
          "metadata": {
            "needs_background": "light"
          }
        },
        {
          "output_type": "display_data",
          "data": {
            "text/plain": [
              "<Figure size 504x216 with 1 Axes>"
            ],
            "image/png": "[encoded data removed]"
          },
          "metadata": {
            "needs_background": "light"
          }
        },
        {
          "output_type": "display_data",
          "data": {
            "text/plain": [
              "<Figure size 504x216 with 1 Axes>"
            ],
            "image/png": "[encoded data removed]"
          },
          "metadata": {
            "needs_background": "light"
          }
        },
        {
          "output_type": "display_data",
          "data": {
            "text/plain": [
              "<Figure size 504x216 with 1 Axes>"
            ],
            "image/png": "[encoded data removed]"
          },
          "metadata": {
            "needs_background": "light"
          }
        },
        {
          "output_type": "display_data",
          "data": {
            "text/plain": [
              "<Figure size 504x216 with 1 Axes>"
            ],
            "image/png": "[encoded data removed]"
          },
          "metadata": {
            "needs_background": "light"
          }
        },
        {
          "output_type": "display_data",
          "data": {
            "text/plain": [
              "<Figure size 504x216 with 1 Axes>"
            ],
            "image/png": "[encoded data removed]"
          },
          "metadata": {
            "needs_background": "light"
          }
        },
        {
          "output_type": "display_data",
          "data": {
            "text/plain": [
              "<Figure size 504x216 with 1 Axes>"
            ],
            "image/png": "[encoded data removed]"
          },
          "metadata": {
            "needs_background": "light"
          }
        },
        {
          "output_type": "display_data",
          "data": {
            "text/plain": [
              "<Figure size 504x216 with 1 Axes>"
            ],
            "image/png": "[encoded data removed]"
          },
          "metadata": {
            "needs_background": "light"
          }
        },
        {
          "output_type": "display_data",
          "data": {
            "text/plain": [
              "<Figure size 504x216 with 1 Axes>"
            ],
            "image/png": "[encoded data removed]"
          },
          "metadata": {
            "needs_background": "light"
          }
        },
        {
          "output_type": "display_data",
          "data": {
            "text/plain": [
              "<Figure size 504x216 with 1 Axes>"
            ],
            "image/png": "[encoded data removed]"
          },
          "metadata": {
            "needs_background": "light"
          }
        },
        {
          "output_type": "display_data",
          "data": {
            "text/plain": [
              "<Figure size 504x216 with 1 Axes>"
            ],
            "image/png": "[encoded data removed]"
          },
          "metadata": {
            "needs_background": "light"
          }
        },
        {
          "output_type": "display_data",
          "data": {
            "text/plain": [
              "<Figure size 504x216 with 1 Axes>"
            ],
            "image/png": "[encoded data removed]"
          },
          "metadata": {
            "needs_background": "light"
          }
        },
        {
          "output_type": "display_data",
          "data": {
            "text/plain": [
              "<Figure size 504x216 with 1 Axes>"
            ],
            "image/png": "[encoded data removed]"
          },
          "metadata": {
            "needs_background": "light"
          }
        },
        {
          "output_type": "display_data",
          "data": {
            "text/plain": [
              "<Figure size 504x216 with 1 Axes>"
            ],
            "image/png": "[encoded data removed]"
          },
          "metadata": {
            "needs_background": "light"
          }
        }
      ]
    },
    {
      "cell_type": "markdown",
      "source": [
        "## **3. 데이터 전처리**"
      ],
      "metadata": {
        "id": "V6rbL7TZyHCL"
      }
    },
    {
      "cell_type": "markdown",
      "source": [
        "### **Label-Encoding**"
      ],
      "metadata": {
        "id": "QBHCL1tJyM6I"
      }
    },
    {
      "cell_type": "code",
      "source": [
        "class_le = preprocessing.LabelEncoder()\n",
        "snp_le = preprocessing.LabelEncoder()\n",
        "snp_col = [f'SNP_{str(x).zfill(2)}' for x in range(1,16)] #zfill(2): 길이가 2가 되도록 숫자 앞에 0을 붙임"
      ],
      "metadata": {
        "id": "xjiDPicVyKMB"
      },
      "execution_count": null,
      "outputs": []
    },
    {
      "cell_type": "code",
      "source": [
        "snp_data = []\n",
        "for col in snp_col:\n",
        "    snp_data += list(train_x[col].values)"
      ],
      "metadata": {
        "id": "BTgL9oOhyLC8"
      },
      "execution_count": null,
      "outputs": []
    },
    {
      "cell_type": "code",
      "source": [
        "train_y = class_le.fit_transform(train_y)\n",
        "snp_le.fit(snp_data)"
      ],
      "metadata": {
        "colab": {
          "base_uri": "https://localhost:8080/"
        },
        "id": "q9dwAL0YyTA1",
        "outputId": "0d528713-e50b-4dc0-939c-e8872133abc0"
      },
      "execution_count": null,
      "outputs": [
        {
          "output_type": "execute_result",
          "data": {
            "text/plain": [
              "LabelEncoder()"
            ]
          },
          "metadata": {},
          "execution_count": 146
        }
      ]
    },
    {
      "cell_type": "code",
      "source": [
        "for col in train_x.columns:\n",
        "    if col in snp_col:\n",
        "        train_x[col] = snp_le.transform(train_x[col])\n",
        "        test_x[col] = snp_le.transform(test_x[col])"
      ],
      "metadata": {
        "id": "lQKz536uyUvd"
      },
      "execution_count": null,
      "outputs": []
    },
    {
      "cell_type": "markdown",
      "source": [
        "## **4. 모델 적합**"
      ],
      "metadata": {
        "id": "D69tUEDI8EOW"
      }
    },
    {
      "cell_type": "code",
      "source": [
        "#평가지표 - macro f1 score\n",
        "from sklearn.metrics import confusion_matrix, accuracy_score, precision_score, recall_score, f1_score\n",
        "\n",
        "def get_clf_eval(y_test, pred=None, pred_proba=None):\n",
        "    confusion = confusion_matrix(y_test, pred)\n",
        "    accuracy = accuracy_score(y_test , pred)\n",
        "    precision = precision_score(y_test , pred, average='macro') #'micro', 'weighted'도 가능\n",
        "    recall = recall_score(y_test , pred, average='macro')\n",
        "    f1 = f1_score(y_test,pred, average='macro')\n",
        "    print('오차 행렬')\n",
        "    print(confusion)\n",
        "    print('정확도: {0:.4f}, 정밀도: {1:.4f}, 재현율: {2:.4f}, F1: {3:.4f}'.format(accuracy, precision, recall, f1))"
      ],
      "metadata": {
        "id": "5ExmSaCskXgI"
      },
      "execution_count": null,
      "outputs": []
    },
    {
      "cell_type": "code",
      "source": [
        "#인자로 사이킷런의 estimator객체와, 학습/테스트 데이터 세트를 입력 받아서 학습/예측/평가 수행\n",
        "def get_model_train_eval(model, ftr_train=None, ftr_test=None, tgt_train=None, tgt_test=None):\n",
        "    model.fit(ftr_train, tgt_train)\n",
        "    pred = model.predict(ftr_test)\n",
        "    pred_proba = model.predict_proba(ftr_test)[:, 1]\n",
        "    get_clf_eval(tgt_test, pred, pred_proba)"
      ],
      "metadata": {
        "id": "EfqK0O4vkZdB"
      },
      "execution_count": null,
      "outputs": []
    },
    {
      "cell_type": "code",
      "source": [
        "#train, test dataset 분리\n",
        "from sklearn.model_selection import train_test_split\n",
        "X_train, X_tr_test, y_train, y_tr_test = train_test_split(train_x, train_y, test_size=0.2, random_state=156)"
      ],
      "metadata": {
        "id": "Mz2LGYeklksN"
      },
      "execution_count": null,
      "outputs": []
    },
    {
      "cell_type": "markdown",
      "source": [
        "### **4-1. Decision Tree**"
      ],
      "metadata": {
        "id": "e4VdEQP8hRrt"
      }
    },
    {
      "cell_type": "code",
      "source": [
        "from sklearn.tree import DecisionTreeClassifier\n",
        "import warnings\n",
        "warnings.filterwarnings('ignore')\n",
        "dt_clf=DecisionTreeClassifier()\n",
        "get_model_train_eval(dt_clf, ftr_train=X_train, ftr_test=X_tr_test, tgt_train=y_train, tgt_test=y_tr_test)"
      ],
      "metadata": {
        "id": "OVj6EJwQiQ-k",
        "outputId": "b0c5a2ee-a245-45d0-9fec-31e5459c6b10",
        "colab": {
          "base_uri": "https://localhost:8080/"
        }
      },
      "execution_count": null,
      "outputs": [
        {
          "output_type": "stream",
          "name": "stdout",
          "text": [
            "오차 행렬\n",
            "[[11  0  0]\n",
            " [ 0 22  3]\n",
            " [ 0  2 15]]\n",
            "정확도: 0.9057, 정밀도: 0.9167, 재현율: 0.9208, F1: 0.9184\n"
          ]
        }
      ]
    },
    {
      "cell_type": "code",
      "source": [
        "# feature 중요도\n",
        "import matplotlib.pyplot as plt\n",
        "import seaborn as sns\n",
        "%matplotlib inline\n",
        "\n",
        "ftr_importances_values = dt_clf.feature_importances_\n",
        "ftr_importances = pd.Series(ftr_importances_values,index=X_train.columns  )\n",
        "ftr_top20 = ftr_importances.sort_values(ascending=False)\n",
        "\n",
        "plt.figure(figsize=(8,6))\n",
        "plt.title('Feature importances')\n",
        "sns.barplot(x=ftr_top20 , y = ftr_top20.index)\n",
        "plt.show()"
      ],
      "metadata": {
        "id": "d4hIIx0_jHhe",
        "outputId": "c2d50331-aaae-4ff5-c34a-0e1c61f93cb7",
        "colab": {
          "base_uri": "https://localhost:8080/",
          "height": 390
        }
      },
      "execution_count": null,
      "outputs": [
        {
          "output_type": "display_data",
          "data": {
            "text/plain": [
              "<Figure size 576x432 with 1 Axes>"
            ],
            "image/png": "[encoded data removed]"
          },
          "metadata": {
            "needs_background": "light"
          }
        }
      ]
    },
    {
      "cell_type": "code",
      "source": [
        "dt_preds=dt_clf.predict(test_x)\n",
        "# submit = pd.read_csv('/content/drive/MyDrive/ESAA/방학/DATA/sample_submission.csv')\n",
        "# submit['class'] = class_le.inverse_transform(dt_preds)\n",
        "# submit.to_csv('/content/drive/MyDrive/readcsv/유전체/submit.csv', index=False)"
      ],
      "metadata": {
        "id": "tL35H246jXOD"
      },
      "execution_count": null,
      "outputs": []
    },
    {
      "cell_type": "markdown",
      "source": [
        "### **4-2. Random Forest**"
      ],
      "metadata": {
        "id": "0Ctrv9J7W7IR"
      }
    },
    {
      "cell_type": "code",
      "source": [
        "rf_clf = RandomForestClassifier()\n",
        "get_model_train_eval(rf_clf, ftr_train=X_train, ftr_test=X_tr_test, tgt_train=y_train, tgt_test=y_tr_test)"
      ],
      "metadata": {
        "colab": {
          "base_uri": "https://localhost:8080/"
        },
        "id": "Nm6iiO9DifXb",
        "outputId": "bf360fe6-9cff-4679-f702-eb3dbee047f7"
      },
      "execution_count": null,
      "outputs": [
        {
          "output_type": "stream",
          "name": "stdout",
          "text": [
            "오차 행렬\n",
            "[[11  0  0]\n",
            " [ 0 25  0]\n",
            " [ 0  1 16]]\n",
            "정확도: 0.9811, 정밀도: 0.9872, 재현율: 0.9804, F1: 0.9834\n"
          ]
        }
      ]
    },
    {
      "cell_type": "code",
      "source": [
        "# feature 중요도\n",
        "import matplotlib.pyplot as plt\n",
        "import seaborn as sns\n",
        "%matplotlib inline\n",
        "\n",
        "ftr_importances_values = rf_clf.feature_importances_\n",
        "ftr_importances = pd.Series(ftr_importances_values,index=X_train.columns  )\n",
        "ftr_top20 = ftr_importances.sort_values(ascending=False)\n",
        "\n",
        "plt.figure(figsize=(8,6))\n",
        "plt.title('Feature importances')\n",
        "sns.barplot(x=ftr_top20 , y = ftr_top20.index)\n",
        "plt.show()"
      ],
      "metadata": {
        "colab": {
          "base_uri": "https://localhost:8080/",
          "height": 390
        },
        "id": "D95aW-AmiiGi",
        "outputId": "4792680c-7215-4b91-dead-ac5c3d480a9e"
      },
      "execution_count": null,
      "outputs": [
        {
          "output_type": "display_data",
          "data": {
            "text/plain": [
              "<Figure size 576x432 with 1 Axes>"
            ],
            "image/png": "[encoded data removed]"
          },
          "metadata": {
            "needs_background": "light"
          }
        }
      ]
    },
    {
      "cell_type": "code",
      "source": [
        "train_x.corr()"
      ],
      "metadata": {
        "colab": {
          "base_uri": "https://localhost:8080/",
          "height": 709
        },
        "id": "qCvIKeeDp2tP",
        "outputId": "35e768ba-9f6f-4cb8-e85f-a5c1963a7d70"
      },
      "execution_count": null,
      "outputs": [
        {
          "output_type": "execute_result",
          "data": {
            "text/plain": [
              "        father  mother  gender     trait    SNP_01    SNP_02    SNP_03  \\\n",
              "father     NaN     NaN     NaN       NaN       NaN       NaN       NaN   \n",
              "mother     NaN     NaN     NaN       NaN       NaN       NaN       NaN   \n",
              "gender     NaN     NaN     NaN       NaN       NaN       NaN       NaN   \n",
              "trait      NaN     NaN     NaN  1.000000  0.655586 -0.608370  0.614024   \n",
              "SNP_01     NaN     NaN     NaN  0.655586  1.000000 -0.352547  0.462172   \n",
              "SNP_02     NaN     NaN     NaN -0.608370 -0.352547  1.000000 -0.316231   \n",
              "SNP_03     NaN     NaN     NaN  0.614024  0.462172 -0.316231  1.000000   \n",
              "SNP_04     NaN     NaN     NaN -0.559170 -0.300665  0.420129 -0.331834   \n",
              "SNP_05     NaN     NaN     NaN  0.565095  0.408693 -0.221274  0.305200   \n",
              "SNP_06     NaN     NaN     NaN -0.550731 -0.380914  0.377807 -0.387998   \n",
              "SNP_07     NaN     NaN     NaN -0.820360 -0.525956  0.493753 -0.537624   \n",
              "SNP_08     NaN     NaN     NaN  0.653951  0.462378 -0.351265  0.536249   \n",
              "SNP_09     NaN     NaN     NaN -0.678855 -0.425966  0.416581 -0.443257   \n",
              "SNP_10     NaN     NaN     NaN  0.663428  0.499719 -0.306429  0.499672   \n",
              "SNP_11     NaN     NaN     NaN -0.648437 -0.376278  0.399429 -0.341202   \n",
              "SNP_12     NaN     NaN     NaN -0.671932 -0.476313  0.439501 -0.340830   \n",
              "SNP_13     NaN     NaN     NaN -0.619432 -0.405984  0.292253 -0.348503   \n",
              "SNP_14     NaN     NaN     NaN -0.727816 -0.537460  0.400794 -0.522479   \n",
              "SNP_15     NaN     NaN     NaN -0.503634 -0.316038  0.324348 -0.262406   \n",
              "\n",
              "          SNP_04    SNP_05    SNP_06    SNP_07    SNP_08    SNP_09    SNP_10  \\\n",
              "father       NaN       NaN       NaN       NaN       NaN       NaN       NaN   \n",
              "mother       NaN       NaN       NaN       NaN       NaN       NaN       NaN   \n",
              "gender       NaN       NaN       NaN       NaN       NaN       NaN       NaN   \n",
              "trait  -0.559170  0.565095 -0.550731 -0.820360  0.653951 -0.678855  0.663428   \n",
              "SNP_01 -0.300665  0.408693 -0.380914 -0.525956  0.462378 -0.425966  0.499719   \n",
              "SNP_02  0.420129 -0.221274  0.377807  0.493753 -0.351265  0.416581 -0.306429   \n",
              "SNP_03 -0.331834  0.305200 -0.387998 -0.537624  0.536249 -0.443257  0.499672   \n",
              "SNP_04  1.000000 -0.223134  0.453711  0.455330 -0.293011  0.432299 -0.212199   \n",
              "SNP_05 -0.223134  1.000000 -0.367692 -0.577681  0.305523 -0.330828  0.474646   \n",
              "SNP_06  0.453711 -0.367692  1.000000  0.419816 -0.441855  0.506569 -0.390117   \n",
              "SNP_07  0.455330 -0.577681  0.419816  1.000000 -0.469787  0.531933 -0.551705   \n",
              "SNP_08 -0.293011  0.305523 -0.441855 -0.469787  1.000000 -0.511000  0.580793   \n",
              "SNP_09  0.432299 -0.330828  0.506569  0.531933 -0.511000  1.000000 -0.408848   \n",
              "SNP_10 -0.212199  0.474646 -0.390117 -0.551705  0.580793 -0.408848  1.000000   \n",
              "SNP_11  0.388530 -0.251014  0.396302  0.508213 -0.335444  0.447942 -0.367108   \n",
              "SNP_12  0.347525 -0.365823  0.346101  0.546684 -0.429513  0.458179 -0.367607   \n",
              "SNP_13  0.275111 -0.508037  0.412549  0.504480 -0.465259  0.398318 -0.515920   \n",
              "SNP_14  0.378727 -0.449108  0.389656  0.576003 -0.614957  0.448739 -0.595686   \n",
              "SNP_15  0.189435 -0.298634  0.296480  0.418432 -0.357932  0.267349 -0.456619   \n",
              "\n",
              "          SNP_11    SNP_12    SNP_13    SNP_14    SNP_15  \n",
              "father       NaN       NaN       NaN       NaN       NaN  \n",
              "mother       NaN       NaN       NaN       NaN       NaN  \n",
              "gender       NaN       NaN       NaN       NaN       NaN  \n",
              "trait  -0.648437 -0.671932 -0.619432 -0.727816 -0.503634  \n",
              "SNP_01 -0.376278 -0.476313 -0.405984 -0.537460 -0.316038  \n",
              "SNP_02  0.399429  0.439501  0.292253  0.400794  0.324348  \n",
              "SNP_03 -0.341202 -0.340830 -0.348503 -0.522479 -0.262406  \n",
              "SNP_04  0.388530  0.347525  0.275111  0.378727  0.189435  \n",
              "SNP_05 -0.251014 -0.365823 -0.508037 -0.449108 -0.298634  \n",
              "SNP_06  0.396302  0.346101  0.412549  0.389656  0.296480  \n",
              "SNP_07  0.508213  0.546684  0.504480  0.576003  0.418432  \n",
              "SNP_08 -0.335444 -0.429513 -0.465259 -0.614957 -0.357932  \n",
              "SNP_09  0.447942  0.458179  0.398318  0.448739  0.267349  \n",
              "SNP_10 -0.367108 -0.367607 -0.515920 -0.595686 -0.456619  \n",
              "SNP_11  1.000000  0.452208  0.389565  0.416769  0.322462  \n",
              "SNP_12  0.452208  1.000000  0.438691  0.470823  0.274381  \n",
              "SNP_13  0.389565  0.438691  1.000000  0.445944  0.416328  \n",
              "SNP_14  0.416769  0.470823  0.445944  1.000000  0.390254  \n",
              "SNP_15  0.322462  0.274381  0.416328  0.390254  1.000000  "
            ],
            "text/html": [
              "\n",
              "  <div id=\"df-0d4f4eba-2c09-432a-8f9d-7fa9d2a7c883\">\n",
              "    <div class=\"colab-df-container\">\n",
              "      <div>\n",
              "<style scoped>\n",
              "    .dataframe tbody tr th:only-of-type {\n",
              "        vertical-align: middle;\n",
              "    }\n",
              "\n",
              "    .dataframe tbody tr th {\n",
              "        vertical-align: top;\n",
              "    }\n",
              "\n",
              "    .dataframe thead th {\n",
              "        text-align: right;\n",
              "    }\n",
              "</style>\n",
              "<table border=\"1\" class=\"dataframe\">\n",
              "  <thead>\n",
              "    <tr style=\"text-align: right;\">\n",
              "      <th></th>\n",
              "      <th>father</th>\n",
              "      <th>mother</th>\n",
              "      <th>gender</th>\n",
              "      <th>trait</th>\n",
              "      <th>SNP_01</th>\n",
              "      <th>SNP_02</th>\n",
              "      <th>SNP_03</th>\n",
              "      <th>SNP_04</th>\n",
              "      <th>SNP_05</th>\n",
              "      <th>SNP_06</th>\n",
              "      <th>SNP_07</th>\n",
              "      <th>SNP_08</th>\n",
              "      <th>SNP_09</th>\n",
              "      <th>SNP_10</th>\n",
              "      <th>SNP_11</th>\n",
              "      <th>SNP_12</th>\n",
              "      <th>SNP_13</th>\n",
              "      <th>SNP_14</th>\n",
              "      <th>SNP_15</th>\n",
              "    </tr>\n",
              "  </thead>\n",
              "  <tbody>\n",
              "    <tr>\n",
              "      <th>father</th>\n",
              "      <td>NaN</td>\n",
              "      <td>NaN</td>\n",
              "      <td>NaN</td>\n",
              "      <td>NaN</td>\n",
              "      <td>NaN</td>\n",
              "      <td>NaN</td>\n",
              "      <td>NaN</td>\n",
              "      <td>NaN</td>\n",
              "      <td>NaN</td>\n",
              "      <td>NaN</td>\n",
              "      <td>NaN</td>\n",
              "      <td>NaN</td>\n",
              "      <td>NaN</td>\n",
              "      <td>NaN</td>\n",
              "      <td>NaN</td>\n",
              "      <td>NaN</td>\n",
              "      <td>NaN</td>\n",
              "      <td>NaN</td>\n",
              "      <td>NaN</td>\n",
              "    </tr>\n",
              "    <tr>\n",
              "      <th>mother</th>\n",
              "      <td>NaN</td>\n",
              "      <td>NaN</td>\n",
              "      <td>NaN</td>\n",
              "      <td>NaN</td>\n",
              "      <td>NaN</td>\n",
              "      <td>NaN</td>\n",
              "      <td>NaN</td>\n",
              "      <td>NaN</td>\n",
              "      <td>NaN</td>\n",
              "      <td>NaN</td>\n",
              "      <td>NaN</td>\n",
              "      <td>NaN</td>\n",
              "      <td>NaN</td>\n",
              "      <td>NaN</td>\n",
              "      <td>NaN</td>\n",
              "      <td>NaN</td>\n",
              "      <td>NaN</td>\n",
              "      <td>NaN</td>\n",
              "      <td>NaN</td>\n",
              "    </tr>\n",
              "    <tr>\n",
              "      <th>gender</th>\n",
              "      <td>NaN</td>\n",
              "      <td>NaN</td>\n",
              "      <td>NaN</td>\n",
              "      <td>NaN</td>\n",
              "      <td>NaN</td>\n",
              "      <td>NaN</td>\n",
              "      <td>NaN</td>\n",
              "      <td>NaN</td>\n",
              "      <td>NaN</td>\n",
              "      <td>NaN</td>\n",
              "      <td>NaN</td>\n",
              "      <td>NaN</td>\n",
              "      <td>NaN</td>\n",
              "      <td>NaN</td>\n",
              "      <td>NaN</td>\n",
              "      <td>NaN</td>\n",
              "      <td>NaN</td>\n",
              "      <td>NaN</td>\n",
              "      <td>NaN</td>\n",
              "    </tr>\n",
              "    <tr>\n",
              "      <th>trait</th>\n",
              "      <td>NaN</td>\n",
              "      <td>NaN</td>\n",
              "      <td>NaN</td>\n",
              "      <td>1.000000</td>\n",
              "      <td>0.655586</td>\n",
              "      <td>-0.608370</td>\n",
              "      <td>0.614024</td>\n",
              "      <td>-0.559170</td>\n",
              "      <td>0.565095</td>\n",
              "      <td>-0.550731</td>\n",
              "      <td>-0.820360</td>\n",
              "      <td>0.653951</td>\n",
              "      <td>-0.678855</td>\n",
              "      <td>0.663428</td>\n",
              "      <td>-0.648437</td>\n",
              "      <td>-0.671932</td>\n",
              "      <td>-0.619432</td>\n",
              "      <td>-0.727816</td>\n",
              "      <td>-0.503634</td>\n",
              "    </tr>\n",
              "    <tr>\n",
              "      <th>SNP_01</th>\n",
              "      <td>NaN</td>\n",
              "      <td>NaN</td>\n",
              "      <td>NaN</td>\n",
              "      <td>0.655586</td>\n",
              "      <td>1.000000</td>\n",
              "      <td>-0.352547</td>\n",
              "      <td>0.462172</td>\n",
              "      <td>-0.300665</td>\n",
              "      <td>0.408693</td>\n",
              "      <td>-0.380914</td>\n",
              "      <td>-0.525956</td>\n",
              "      <td>0.462378</td>\n",
              "      <td>-0.425966</td>\n",
              "      <td>0.499719</td>\n",
              "      <td>-0.376278</td>\n",
              "      <td>-0.476313</td>\n",
              "      <td>-0.405984</td>\n",
              "      <td>-0.537460</td>\n",
              "      <td>-0.316038</td>\n",
              "    </tr>\n",
              "    <tr>\n",
              "      <th>SNP_02</th>\n",
              "      <td>NaN</td>\n",
              "      <td>NaN</td>\n",
              "      <td>NaN</td>\n",
              "      <td>-0.608370</td>\n",
              "      <td>-0.352547</td>\n",
              "      <td>1.000000</td>\n",
              "      <td>-0.316231</td>\n",
              "      <td>0.420129</td>\n",
              "      <td>-0.221274</td>\n",
              "      <td>0.377807</td>\n",
              "      <td>0.493753</td>\n",
              "      <td>-0.351265</td>\n",
              "      <td>0.416581</td>\n",
              "      <td>-0.306429</td>\n",
              "      <td>0.399429</td>\n",
              "      <td>0.439501</td>\n",
              "      <td>0.292253</td>\n",
              "      <td>0.400794</td>\n",
              "      <td>0.324348</td>\n",
              "    </tr>\n",
              "    <tr>\n",
              "      <th>SNP_03</th>\n",
              "      <td>NaN</td>\n",
              "      <td>NaN</td>\n",
              "      <td>NaN</td>\n",
              "      <td>0.614024</td>\n",
              "      <td>0.462172</td>\n",
              "      <td>-0.316231</td>\n",
              "      <td>1.000000</td>\n",
              "      <td>-0.331834</td>\n",
              "      <td>0.305200</td>\n",
              "      <td>-0.387998</td>\n",
              "      <td>-0.537624</td>\n",
              "      <td>0.536249</td>\n",
              "      <td>-0.443257</td>\n",
              "      <td>0.499672</td>\n",
              "      <td>-0.341202</td>\n",
              "      <td>-0.340830</td>\n",
              "      <td>-0.348503</td>\n",
              "      <td>-0.522479</td>\n",
              "      <td>-0.262406</td>\n",
              "    </tr>\n",
              "    <tr>\n",
              "      <th>SNP_04</th>\n",
              "      <td>NaN</td>\n",
              "      <td>NaN</td>\n",
              "      <td>NaN</td>\n",
              "      <td>-0.559170</td>\n",
              "      <td>-0.300665</td>\n",
              "      <td>0.420129</td>\n",
              "      <td>-0.331834</td>\n",
              "      <td>1.000000</td>\n",
              "      <td>-0.223134</td>\n",
              "      <td>0.453711</td>\n",
              "      <td>0.455330</td>\n",
              "      <td>-0.293011</td>\n",
              "      <td>0.432299</td>\n",
              "      <td>-0.212199</td>\n",
              "      <td>0.388530</td>\n",
              "      <td>0.347525</td>\n",
              "      <td>0.275111</td>\n",
              "      <td>0.378727</td>\n",
              "      <td>0.189435</td>\n",
              "    </tr>\n",
              "    <tr>\n",
              "      <th>SNP_05</th>\n",
              "      <td>NaN</td>\n",
              "      <td>NaN</td>\n",
              "      <td>NaN</td>\n",
              "      <td>0.565095</td>\n",
              "      <td>0.408693</td>\n",
              "      <td>-0.221274</td>\n",
              "      <td>0.305200</td>\n",
              "      <td>-0.223134</td>\n",
              "      <td>1.000000</td>\n",
              "      <td>-0.367692</td>\n",
              "      <td>-0.577681</td>\n",
              "      <td>0.305523</td>\n",
              "      <td>-0.330828</td>\n",
              "      <td>0.474646</td>\n",
              "      <td>-0.251014</td>\n",
              "      <td>-0.365823</td>\n",
              "      <td>-0.508037</td>\n",
              "      <td>-0.449108</td>\n",
              "      <td>-0.298634</td>\n",
              "    </tr>\n",
              "    <tr>\n",
              "      <th>SNP_06</th>\n",
              "      <td>NaN</td>\n",
              "      <td>NaN</td>\n",
              "      <td>NaN</td>\n",
              "      <td>-0.550731</td>\n",
              "      <td>-0.380914</td>\n",
              "      <td>0.377807</td>\n",
              "      <td>-0.387998</td>\n",
              "      <td>0.453711</td>\n",
              "      <td>-0.367692</td>\n",
              "      <td>1.000000</td>\n",
              "      <td>0.419816</td>\n",
              "      <td>-0.441855</td>\n",
              "      <td>0.506569</td>\n",
              "      <td>-0.390117</td>\n",
              "      <td>0.396302</td>\n",
              "      <td>0.346101</td>\n",
              "      <td>0.412549</td>\n",
              "      <td>0.389656</td>\n",
              "      <td>0.296480</td>\n",
              "    </tr>\n",
              "    <tr>\n",
              "      <th>SNP_07</th>\n",
              "      <td>NaN</td>\n",
              "      <td>NaN</td>\n",
              "      <td>NaN</td>\n",
              "      <td>-0.820360</td>\n",
              "      <td>-0.525956</td>\n",
              "      <td>0.493753</td>\n",
              "      <td>-0.537624</td>\n",
              "      <td>0.455330</td>\n",
              "      <td>-0.577681</td>\n",
              "      <td>0.419816</td>\n",
              "      <td>1.000000</td>\n",
              "      <td>-0.469787</td>\n",
              "      <td>0.531933</td>\n",
              "      <td>-0.551705</td>\n",
              "      <td>0.508213</td>\n",
              "      <td>0.546684</td>\n",
              "      <td>0.504480</td>\n",
              "      <td>0.576003</td>\n",
              "      <td>0.418432</td>\n",
              "    </tr>\n",
              "    <tr>\n",
              "      <th>SNP_08</th>\n",
              "      <td>NaN</td>\n",
              "      <td>NaN</td>\n",
              "      <td>NaN</td>\n",
              "      <td>0.653951</td>\n",
              "      <td>0.462378</td>\n",
              "      <td>-0.351265</td>\n",
              "      <td>0.536249</td>\n",
              "      <td>-0.293011</td>\n",
              "      <td>0.305523</td>\n",
              "      <td>-0.441855</td>\n",
              "      <td>-0.469787</td>\n",
              "      <td>1.000000</td>\n",
              "      <td>-0.511000</td>\n",
              "      <td>0.580793</td>\n",
              "      <td>-0.335444</td>\n",
              "      <td>-0.429513</td>\n",
              "      <td>-0.465259</td>\n",
              "      <td>-0.614957</td>\n",
              "      <td>-0.357932</td>\n",
              "    </tr>\n",
              "    <tr>\n",
              "      <th>SNP_09</th>\n",
              "      <td>NaN</td>\n",
              "      <td>NaN</td>\n",
              "      <td>NaN</td>\n",
              "      <td>-0.678855</td>\n",
              "      <td>-0.425966</td>\n",
              "      <td>0.416581</td>\n",
              "      <td>-0.443257</td>\n",
              "      <td>0.432299</td>\n",
              "      <td>-0.330828</td>\n",
              "      <td>0.506569</td>\n",
              "      <td>0.531933</td>\n",
              "      <td>-0.511000</td>\n",
              "      <td>1.000000</td>\n",
              "      <td>-0.408848</td>\n",
              "      <td>0.447942</td>\n",
              "      <td>0.458179</td>\n",
              "      <td>0.398318</td>\n",
              "      <td>0.448739</td>\n",
              "      <td>0.267349</td>\n",
              "    </tr>\n",
              "    <tr>\n",
              "      <th>SNP_10</th>\n",
              "      <td>NaN</td>\n",
              "      <td>NaN</td>\n",
              "      <td>NaN</td>\n",
              "      <td>0.663428</td>\n",
              "      <td>0.499719</td>\n",
              "      <td>-0.306429</td>\n",
              "      <td>0.499672</td>\n",
              "      <td>-0.212199</td>\n",
              "      <td>0.474646</td>\n",
              "      <td>-0.390117</td>\n",
              "      <td>-0.551705</td>\n",
              "      <td>0.580793</td>\n",
              "      <td>-0.408848</td>\n",
              "      <td>1.000000</td>\n",
              "      <td>-0.367108</td>\n",
              "      <td>-0.367607</td>\n",
              "      <td>-0.515920</td>\n",
              "      <td>-0.595686</td>\n",
              "      <td>-0.456619</td>\n",
              "    </tr>\n",
              "    <tr>\n",
              "      <th>SNP_11</th>\n",
              "      <td>NaN</td>\n",
              "      <td>NaN</td>\n",
              "      <td>NaN</td>\n",
              "      <td>-0.648437</td>\n",
              "      <td>-0.376278</td>\n",
              "      <td>0.399429</td>\n",
              "      <td>-0.341202</td>\n",
              "      <td>0.388530</td>\n",
              "      <td>-0.251014</td>\n",
              "      <td>0.396302</td>\n",
              "      <td>0.508213</td>\n",
              "      <td>-0.335444</td>\n",
              "      <td>0.447942</td>\n",
              "      <td>-0.367108</td>\n",
              "      <td>1.000000</td>\n",
              "      <td>0.452208</td>\n",
              "      <td>0.389565</td>\n",
              "      <td>0.416769</td>\n",
              "      <td>0.322462</td>\n",
              "    </tr>\n",
              "    <tr>\n",
              "      <th>SNP_12</th>\n",
              "      <td>NaN</td>\n",
              "      <td>NaN</td>\n",
              "      <td>NaN</td>\n",
              "      <td>-0.671932</td>\n",
              "      <td>-0.476313</td>\n",
              "      <td>0.439501</td>\n",
              "      <td>-0.340830</td>\n",
              "      <td>0.347525</td>\n",
              "      <td>-0.365823</td>\n",
              "      <td>0.346101</td>\n",
              "      <td>0.546684</td>\n",
              "      <td>-0.429513</td>\n",
              "      <td>0.458179</td>\n",
              "      <td>-0.367607</td>\n",
              "      <td>0.452208</td>\n",
              "      <td>1.000000</td>\n",
              "      <td>0.438691</td>\n",
              "      <td>0.470823</td>\n",
              "      <td>0.274381</td>\n",
              "    </tr>\n",
              "    <tr>\n",
              "      <th>SNP_13</th>\n",
              "      <td>NaN</td>\n",
              "      <td>NaN</td>\n",
              "      <td>NaN</td>\n",
              "      <td>-0.619432</td>\n",
              "      <td>-0.405984</td>\n",
              "      <td>0.292253</td>\n",
              "      <td>-0.348503</td>\n",
              "      <td>0.275111</td>\n",
              "      <td>-0.508037</td>\n",
              "      <td>0.412549</td>\n",
              "      <td>0.504480</td>\n",
              "      <td>-0.465259</td>\n",
              "      <td>0.398318</td>\n",
              "      <td>-0.515920</td>\n",
              "      <td>0.389565</td>\n",
              "      <td>0.438691</td>\n",
              "      <td>1.000000</td>\n",
              "      <td>0.445944</td>\n",
              "      <td>0.416328</td>\n",
              "    </tr>\n",
              "    <tr>\n",
              "      <th>SNP_14</th>\n",
              "      <td>NaN</td>\n",
              "      <td>NaN</td>\n",
              "      <td>NaN</td>\n",
              "      <td>-0.727816</td>\n",
              "      <td>-0.537460</td>\n",
              "      <td>0.400794</td>\n",
              "      <td>-0.522479</td>\n",
              "      <td>0.378727</td>\n",
              "      <td>-0.449108</td>\n",
              "      <td>0.389656</td>\n",
              "      <td>0.576003</td>\n",
              "      <td>-0.614957</td>\n",
              "      <td>0.448739</td>\n",
              "      <td>-0.595686</td>\n",
              "      <td>0.416769</td>\n",
              "      <td>0.470823</td>\n",
              "      <td>0.445944</td>\n",
              "      <td>1.000000</td>\n",
              "      <td>0.390254</td>\n",
              "    </tr>\n",
              "    <tr>\n",
              "      <th>SNP_15</th>\n",
              "      <td>NaN</td>\n",
              "      <td>NaN</td>\n",
              "      <td>NaN</td>\n",
              "      <td>-0.503634</td>\n",
              "      <td>-0.316038</td>\n",
              "      <td>0.324348</td>\n",
              "      <td>-0.262406</td>\n",
              "      <td>0.189435</td>\n",
              "      <td>-0.298634</td>\n",
              "      <td>0.296480</td>\n",
              "      <td>0.418432</td>\n",
              "      <td>-0.357932</td>\n",
              "      <td>0.267349</td>\n",
              "      <td>-0.456619</td>\n",
              "      <td>0.322462</td>\n",
              "      <td>0.274381</td>\n",
              "      <td>0.416328</td>\n",
              "      <td>0.390254</td>\n",
              "      <td>1.000000</td>\n",
              "    </tr>\n",
              "  </tbody>\n",
              "</table>\n",
              "</div>\n",
              "      <button class=\"colab-df-convert\" onclick=\"convertToInteractive('df-0d4f4eba-2c09-432a-8f9d-7fa9d2a7c883')\"\n",
              "              title=\"Convert this dataframe to an interactive table.\"\n",
              "              style=\"display:none;\">\n",
              "        \n",
              "  <svg xmlns=\"http://www.w3.org/2000/svg\" height=\"24px\"viewBox=\"0 0 24 24\"\n",
              "       width=\"24px\">\n",
              "    <path d=\"M0 0h24v24H0V0z\" fill=\"none\"/>\n",
              "    <path d=\"M18.56 5.44l.94 2.06.94-2.06 2.06-.94-2.06-.94-.94-2.06-.94 2.06-2.06.94zm-11 1L8.5 8.5l.94-2.06 2.06-.94-2.06-.94L8.5 2.5l-.94 2.06-2.06.94zm10 10l.94 2.06.94-2.06 2.06-.94-2.06-.94-.94-2.06-.94 2.06-2.06.94z\"/><path d=\"M17.41 7.96l-1.37-1.37c-.4-.4-.92-.59-1.43-.59-.52 0-1.04.2-1.43.59L10.3 9.45l-7.72 7.72c-.78.78-.78 2.05 0 2.83L4 21.41c.39.39.9.59 1.41.59.51 0 1.02-.2 1.41-.59l7.78-7.78 2.81-2.81c.8-.78.8-2.07 0-2.86zM5.41 20L4 18.59l7.72-7.72 1.47 1.35L5.41 20z\"/>\n",
              "  </svg>\n",
              "      </button>\n",
              "      \n",
              "  <style>\n",
              "    .colab-df-container {\n",
              "      display:flex;\n",
              "      flex-wrap:wrap;\n",
              "      gap: 12px;\n",
              "    }\n",
              "\n",
              "    .colab-df-convert {\n",
              "      background-color: #E8F0FE;\n",
              "      border: none;\n",
              "      border-radius: 50%;\n",
              "      cursor: pointer;\n",
              "      display: none;\n",
              "      fill: #1967D2;\n",
              "      height: 32px;\n",
              "      padding: 0 0 0 0;\n",
              "      width: 32px;\n",
              "    }\n",
              "\n",
              "    .colab-df-convert:hover {\n",
              "      background-color: #E2EBFA;\n",
              "      box-shadow: 0px 1px 2px rgba(60, 64, 67, 0.3), 0px 1px 3px 1px rgba(60, 64, 67, 0.15);\n",
              "      fill: #174EA6;\n",
              "    }\n",
              "\n",
              "    [theme=dark] .colab-df-convert {\n",
              "      background-color: #3B4455;\n",
              "      fill: #D2E3FC;\n",
              "    }\n",
              "\n",
              "    [theme=dark] .colab-df-convert:hover {\n",
              "      background-color: #434B5C;\n",
              "      box-shadow: 0px 1px 3px 1px rgba(0, 0, 0, 0.15);\n",
              "      filter: drop-shadow(0px 1px 2px rgba(0, 0, 0, 0.3));\n",
              "      fill: #FFFFFF;\n",
              "    }\n",
              "  </style>\n",
              "\n",
              "      <script>\n",
              "        const buttonEl =\n",
              "          document.querySelector('#df-0d4f4eba-2c09-432a-8f9d-7fa9d2a7c883 button.colab-df-convert');\n",
              "        buttonEl.style.display =\n",
              "          google.colab.kernel.accessAllowed ? 'block' : 'none';\n",
              "\n",
              "        async function convertToInteractive(key) {\n",
              "          const element = document.querySelector('#df-0d4f4eba-2c09-432a-8f9d-7fa9d2a7c883');\n",
              "          const dataTable =\n",
              "            await google.colab.kernel.invokeFunction('convertToInteractive',\n",
              "                                                     [key], {});\n",
              "          if (!dataTable) return;\n",
              "\n",
              "          const docLinkHtml = 'Like what you see? Visit the ' +\n",
              "            '<a target=\"_blank\" href=https://colab.research.google.com/notebooks/data_table.ipynb>data table notebook</a>'\n",
              "            + ' to learn more about interactive tables.';\n",
              "          element.innerHTML = '';\n",
              "          dataTable['output_type'] = 'display_data';\n",
              "          await google.colab.output.renderOutput(dataTable, element);\n",
              "          const docLink = document.createElement('div');\n",
              "          docLink.innerHTML = docLinkHtml;\n",
              "          element.appendChild(docLink);\n",
              "        }\n",
              "      </script>\n",
              "    </div>\n",
              "  </div>\n",
              "  "
            ]
          },
          "metadata": {},
          "execution_count": 156
        }
      ]
    },
    {
      "cell_type": "code",
      "source": [
        "rf_preds=rf_clf.predict(test_x)\n",
        "# submit = pd.read_csv('/content/drive/MyDrive/readcsv/유전체/sample_submission.csv')\n",
        "# submit['class'] = class_le.inverse_transform(dt_preds)\n",
        "# submit.to_csv('/content/drive/MyDrive/readcsv/유전체/submit.csv', index=False)"
      ],
      "metadata": {
        "id": "sHshGLUYkcc-"
      },
      "execution_count": null,
      "outputs": []
    },
    {
      "cell_type": "code",
      "source": [
        "#랜덤 포레스트의 하이퍼 파라미터 튜닝\n",
        "from sklearn.model_selection import GridSearchCV\n",
        "\n",
        "params = {\n",
        "    'n_estimators' : [100],\n",
        "    'max_depth' : [6,8,10,12],\n",
        "    'min_samples_leaf' : [8,12,18],\n",
        "    'min_samples_split' : [8,16,20]\n",
        "}\n",
        "\n",
        "#RandomForestClassifier 객체 생성 후 GridSearchCV 수행\n",
        "rf_clf1 = RandomForestClassifier(random_state=0, n_jobs=-1)\n",
        "grid_cv = GridSearchCV(rf_clf1, param_grid=params, cv=2, n_jobs=-1)\n",
        "grid_cv.fit(X_train, y_train)\n",
        "\n",
        "print('최적 하이퍼 파라미터:\\n',grid_cv.best_params_)\n",
        "print('최고 예측 정확도:{0:.4f}'.format(grid_cv.best_score_))"
      ],
      "metadata": {
        "colab": {
          "base_uri": "https://localhost:8080/"
        },
        "id": "dyRhtjvaVHAN",
        "outputId": "4a8f18d3-ea44-4fac-be4b-52553a641b7d"
      },
      "execution_count": null,
      "outputs": [
        {
          "output_type": "stream",
          "name": "stdout",
          "text": [
            "최적 하이퍼 파라미터:\n",
            " {'max_depth': 6, 'min_samples_leaf': 8, 'min_samples_split': 8, 'n_estimators': 100}\n",
            "최고 예측 정확도:0.9187\n"
          ]
        }
      ]
    },
    {
      "cell_type": "code",
      "source": [
        "rf_model = RandomForestClassifier(max_depth= 6, min_samples_leaf= 8, min_samples_split= 8, n_estimators= 100)\n",
        "get_model_train_eval(rf_model, ftr_train=X_train, ftr_test=X_tr_test, tgt_train=y_train, tgt_test=y_tr_test)"
      ],
      "metadata": {
        "colab": {
          "base_uri": "https://localhost:8080/"
        },
        "id": "7KpaZxAhWfCS",
        "outputId": "1280d68b-5a62-468e-eafb-f593a1f31c9c"
      },
      "execution_count": null,
      "outputs": [
        {
          "output_type": "stream",
          "name": "stdout",
          "text": [
            "오차 행렬\n",
            "[[11  0  0]\n",
            " [ 0 25  0]\n",
            " [ 0  3 14]]\n",
            "정확도: 0.9434, 정밀도: 0.9643, 재현율: 0.9412, F1: 0.9489\n"
          ]
        }
      ]
    },
    {
      "cell_type": "code",
      "source": [
        "submit = pd.read_csv('/content/drive/MyDrive/ESAA/dacon/open/sample_submission.csv')"
      ],
      "metadata": {
        "id": "L9EjnSvWXH-W"
      },
      "execution_count": null,
      "outputs": []
    },
    {
      "cell_type": "code",
      "source": [
        "preds_rf_1 = rf_model.predict(test_x)\n",
        "submit['class'] = class_le.inverse_transform(preds_rf_1)"
      ],
      "metadata": {
        "id": "geIXf67kXBZD"
      },
      "execution_count": null,
      "outputs": []
    },
    {
      "cell_type": "code",
      "source": [
        "submit.to_csv('/content/drive/MyDrive/ESAA/dacon/open/rf_submit_cv.csv', index=False)"
      ],
      "metadata": {
        "id": "d282AzBDXUkw"
      },
      "execution_count": null,
      "outputs": []
    },
    {
      "cell_type": "markdown",
      "source": [
        "### **4-3. XGBoost**"
      ],
      "metadata": {
        "id": "q_ySnm0fhX_H"
      }
    },
    {
      "cell_type": "code",
      "source": [
        "import xgboost as xgb\n",
        "from xgboost import XGBClassifier\n",
        "from xgboost import plot_importance\n",
        "import warnings\n",
        "warnings.filterwarnings('ignore')"
      ],
      "metadata": {
        "id": "lWCs-hiiWloK"
      },
      "execution_count": null,
      "outputs": []
    },
    {
      "cell_type": "code",
      "source": [
        "xgb_clf = XGBClassifier()\n",
        "get_model_train_eval(xgb_clf, ftr_train=X_train, ftr_test=X_tr_test, tgt_train=y_train, tgt_test=y_tr_test)"
      ],
      "metadata": {
        "colab": {
          "base_uri": "https://localhost:8080/"
        },
        "id": "IcbrIZ-2XRVI",
        "outputId": "28cd5c8d-8d86-4fdc-f928-5c2e4e67848b"
      },
      "execution_count": null,
      "outputs": [
        {
          "output_type": "stream",
          "name": "stdout",
          "text": [
            "오차 행렬\n",
            "[[11  0  0]\n",
            " [ 0 25  0]\n",
            " [ 0  1 16]]\n",
            "정확도: 0.9811, 정밀도: 0.9872, 재현율: 0.9804, F1: 0.9834\n"
          ]
        }
      ]
    },
    {
      "cell_type": "code",
      "source": [
        "# feature 중요도\n",
        "import matplotlib.pyplot as plt\n",
        "import seaborn as sns\n",
        "%matplotlib inline\n",
        "\n",
        "ftr_importances_values = xgb_clf.feature_importances_\n",
        "ftr_importances = pd.Series(ftr_importances_values,index=X_train.columns  )\n",
        "ftr_top20 = ftr_importances.sort_values(ascending=False)\n",
        "\n",
        "plt.figure(figsize=(8,6))\n",
        "plt.title('Feature importances')\n",
        "sns.barplot(x=ftr_top20 , y = ftr_top20.index)\n",
        "plt.show()"
      ],
      "metadata": {
        "id": "cvfSfsUFkpEc",
        "outputId": "a5c2b298-7d44-41a8-b6b2-32b6de84c9a5",
        "colab": {
          "base_uri": "https://localhost:8080/",
          "height": 390
        }
      },
      "execution_count": null,
      "outputs": [
        {
          "output_type": "display_data",
          "data": {
            "text/plain": [
              "<Figure size 576x432 with 1 Axes>"
            ],
            "image/png": "[encoded data removed]"
          },
          "metadata": {
            "needs_background": "light"
          }
        }
      ]
    },
    {
      "cell_type": "code",
      "source": [
        "xgb_preds = xgb_clf.predict(test_x)\n",
        "# sub['class'] = class_le.inverse_transform(xgb_preds)"
      ],
      "metadata": {
        "id": "utyXa0YvhjZl"
      },
      "execution_count": null,
      "outputs": []
    },
    {
      "cell_type": "code",
      "source": [
        "# sub.to_csv(\"/content/drive/MyDrive/ESAA/방학플젝1/sub_xgb.csv\", index=False)"
      ],
      "metadata": {
        "id": "jj9LhR4mhjZn"
      },
      "execution_count": null,
      "outputs": []
    },
    {
      "cell_type": "markdown",
      "source": [
        "### **4-4. GBM**"
      ],
      "metadata": {
        "id": "GPluqOvohYB4"
      }
    },
    {
      "cell_type": "code",
      "source": [
        "from sklearn.ensemble import GradientBoostingClassifier\n",
        "gbm_clf = GradientBoostingClassifier()\n",
        "get_model_train_eval(gbm_clf, ftr_train=X_train, ftr_test=X_tr_test, tgt_train=y_train, tgt_test=y_tr_test)"
      ],
      "metadata": {
        "colab": {
          "base_uri": "https://localhost:8080/"
        },
        "id": "3DE1xcD9lJX6",
        "outputId": "86d83a18-9c4d-4184-85f9-b22105d65fbe"
      },
      "execution_count": null,
      "outputs": [
        {
          "output_type": "stream",
          "name": "stdout",
          "text": [
            "오차 행렬\n",
            "[[11  0  0]\n",
            " [ 0 25  0]\n",
            " [ 0  1 16]]\n",
            "정확도: 0.9811, 정밀도: 0.9872, 재현율: 0.9804, F1: 0.9834\n"
          ]
        }
      ]
    },
    {
      "cell_type": "code",
      "source": [
        "# feature 중요도\n",
        "import matplotlib.pyplot as plt\n",
        "import seaborn as sns\n",
        "%matplotlib inline\n",
        "\n",
        "ftr_importances_values = gbm_clf.feature_importances_\n",
        "ftr_importances = pd.Series(ftr_importances_values,index=X_train.columns )\n",
        "ftr_top20 = ftr_importances.sort_values(ascending=False)\n",
        "\n",
        "plt.figure(figsize=(8,6))\n",
        "plt.title('Feature importances')\n",
        "sns.barplot(x=ftr_top20 , y = ftr_top20.index)\n",
        "plt.show()"
      ],
      "metadata": {
        "colab": {
          "base_uri": "https://localhost:8080/",
          "height": 390
        },
        "id": "IDuZoOXRle1W",
        "outputId": "e18d01de-7373-4e9a-df6e-8457aff3ba39"
      },
      "execution_count": null,
      "outputs": [
        {
          "output_type": "display_data",
          "data": {
            "text/plain": [
              "<Figure size 576x432 with 1 Axes>"
            ],
            "image/png": "[encoded data removed]"
          },
          "metadata": {
            "needs_background": "light"
          }
        }
      ]
    },
    {
      "cell_type": "code",
      "source": [
        "preds_gbm_1 = gbm_clf.predict(test_x)\n",
        "# submit['class'] = class_le.inverse_transform(preds_gbm_1)"
      ],
      "metadata": {
        "id": "RWJSBlKSlqee"
      },
      "execution_count": null,
      "outputs": []
    },
    {
      "cell_type": "code",
      "source": [
        "# submit.to_csv('/content/drive/MyDrive/ESAA/dacon/open/gbm_submit_1.csv', index=False)"
      ],
      "metadata": {
        "id": "EmW3sOMgl3lI"
      },
      "execution_count": null,
      "outputs": []
    },
    {
      "cell_type": "markdown",
      "source": [
        "### **4-5. Light GBM**"
      ],
      "metadata": {
        "id": "6ML17_9YW9go"
      }
    },
    {
      "cell_type": "code",
      "source": [
        "from lightgbm import LGBMClassifier\n",
        "import lightgbm as lgbm\n",
        "lgbm_clf = LGBMClassifier()\n",
        "get_model_train_eval(lgbm_clf, ftr_train=X_train, ftr_test=X_tr_test, tgt_train=y_train, tgt_test=y_tr_test)"
      ],
      "metadata": {
        "colab": {
          "base_uri": "https://localhost:8080/"
        },
        "id": "wObLilN-XGkP",
        "outputId": "da879474-9364-417c-883e-2d64bd9c3f02"
      },
      "execution_count": null,
      "outputs": [
        {
          "output_type": "stream",
          "name": "stdout",
          "text": [
            "오차 행렬\n",
            "[[11  0  0]\n",
            " [ 0 25  0]\n",
            " [ 0  1 16]]\n",
            "정확도: 0.9811, 정밀도: 0.9872, 재현율: 0.9804, F1: 0.9834\n"
          ]
        }
      ]
    },
    {
      "cell_type": "code",
      "source": [
        "# feature 중요도\n",
        "import matplotlib.pyplot as plt\n",
        "import seaborn as sns\n",
        "%matplotlib inline\n",
        "\n",
        "ftr_importances_values = lgbm_clf.feature_importances_\n",
        "ftr_importances = pd.Series(ftr_importances_values,index=X_train.columns  )\n",
        "ftr_top20 = ftr_importances.sort_values(ascending=False)\n",
        "\n",
        "plt.figure(figsize=(8,6))\n",
        "plt.title('Feature importances')\n",
        "sns.barplot(x=ftr_top20 , y = ftr_top20.index)\n",
        "plt.show()"
      ],
      "metadata": {
        "colab": {
          "base_uri": "https://localhost:8080/",
          "height": 390
        },
        "id": "peMLkOAkYAd5",
        "outputId": "bbfa0734-a223-41c1-f3a8-6f66dedf70ef"
      },
      "execution_count": null,
      "outputs": [
        {
          "output_type": "display_data",
          "data": {
            "text/plain": [
              "<Figure size 576x432 with 1 Axes>"
            ],
            "image/png": "[encoded data removed]"
          },
          "metadata": {
            "needs_background": "light"
          }
        }
      ]
    },
    {
      "cell_type": "code",
      "source": [
        "# submit = pd.read_csv('/content/drive/MyDrive/ESAA/방학/DATA/sample_submission.csv')"
      ],
      "metadata": {
        "id": "Tiog2KKgxJFE"
      },
      "execution_count": null,
      "outputs": []
    },
    {
      "cell_type": "code",
      "source": [
        "preds_lgbm_1 = lgbm_clf.predict(test_x)\n",
        "# submit['class'] = class_le.inverse_transform(preds_lgbm_1)"
      ],
      "metadata": {
        "id": "iQufBZXuYsD6"
      },
      "execution_count": null,
      "outputs": []
    },
    {
      "cell_type": "code",
      "source": [
        "# submit.to_csv('/content/drive/MyDrive/ESAA/방학/DATA/submit_lgbm_1.csv', index=False)"
      ],
      "metadata": {
        "id": "P4pQlduyYtVY"
      },
      "execution_count": null,
      "outputs": []
    },
    {
      "cell_type": "code",
      "source": [
        "from sklearn.model_selection import GridSearchCV "
      ],
      "metadata": {
        "id": "1ij06QPNbZeU"
      },
      "execution_count": null,
      "outputs": []
    },
    {
      "cell_type": "code",
      "source": [
        "lgbm_clf1 = LGBMClassifier()\n",
        "parameters = {'max_depth': [4,6,8,10],\n",
        "              'learning_rate': [0.01,0.03,0.1,0.15],\n",
        "              'n_estimators': [100,300,500]\n",
        "}\n",
        "\n",
        "\n",
        "lgbm_grid = GridSearchCV(lgbm_clf1,\n",
        "                        parameters,\n",
        "                        cv = 2,\n",
        "                        n_jobs = -1,\n",
        "                        verbose = True)\n",
        "lgbm_grid.fit(X_train, y_train)\n",
        "\n",
        "print(lgbm_grid.best_score_)\n",
        "print(lgbm_grid.best_params_)"
      ],
      "metadata": {
        "id": "DYJXFpoqaW_H",
        "colab": {
          "base_uri": "https://localhost:8080/"
        },
        "outputId": "c2492408-f121-4240-d24d-6d66e87fbb25"
      },
      "execution_count": null,
      "outputs": [
        {
          "output_type": "stream",
          "name": "stdout",
          "text": [
            "Fitting 2 folds for each of 48 candidates, totalling 96 fits\n",
            "0.9568681318681318\n",
            "{'learning_rate': 0.03, 'max_depth': 4, 'n_estimators': 500}\n"
          ]
        }
      ]
    },
    {
      "cell_type": "code",
      "source": [
        "lgbm_model = LGBMClassifier(learning_rate=0.03,max_depth=4,n_estimator=500)\n",
        "#lgbm_model.fit(X_train, y_train, verbose=False)\n",
        "get_model_train_eval(lgbm_model, ftr_train=X_train, ftr_test=X_tr_test, tgt_train=y_train, tgt_test=y_tr_test)"
      ],
      "metadata": {
        "id": "pKwI9AlrbjM_",
        "colab": {
          "base_uri": "https://localhost:8080/"
        },
        "outputId": "ad5f56dd-3a93-4a95-deb8-a19ba0226efb"
      },
      "execution_count": null,
      "outputs": [
        {
          "output_type": "stream",
          "name": "stdout",
          "text": [
            "오차 행렬\n",
            "[[11  0  0]\n",
            " [ 0 25  0]\n",
            " [ 0  3 14]]\n",
            "정확도: 0.9434, 정밀도: 0.9643, 재현율: 0.9412, F1: 0.9489\n"
          ]
        }
      ]
    },
    {
      "cell_type": "code",
      "source": [
        "# submit = pd.read_csv('/content/drive/MyDrive/ESAA/방학/DATA/sample_submission.csv')"
      ],
      "metadata": {
        "id": "TCoLZR_ixHjt"
      },
      "execution_count": null,
      "outputs": []
    },
    {
      "cell_type": "code",
      "source": [
        "preds_lgbm_2 = lgbm_model.predict(test_x)\n",
        "# submit['class'] = class_le.inverse_transform(preds_lgbm_2)"
      ],
      "metadata": {
        "id": "R3t4WN92caIJ"
      },
      "execution_count": null,
      "outputs": []
    },
    {
      "cell_type": "code",
      "source": [
        "# submit.to_csv('/content/drive/MyDrive/ESAA/방학/DATA/submit_lgbm_2.csv', index=False)"
      ],
      "metadata": {
        "id": "Xqxc-2ZGcc9j"
      },
      "execution_count": null,
      "outputs": []
    },
    {
      "cell_type": "markdown",
      "source": [
        "##**5. 변수결합**"
      ],
      "metadata": {
        "id": "NptXBG44z3QY"
      }
    },
    {
      "cell_type": "markdown",
      "source": [
        "###**5-1**\n",
        "1, 5 결합"
      ],
      "metadata": {
        "id": "C0QD8F2tz8OP"
      }
    },
    {
      "cell_type": "code",
      "source": [
        "train = pd.read_csv(\"/content/drive/MyDrive/ESAA/dacon/open/train.csv\")\n",
        "test = pd.read_csv(\"/content/drive/MyDrive/ESAA/dacon/open/test.csv\")\n",
        "snp_info = pd.read_csv(\"/content/drive/MyDrive/ESAA/dacon/open/snp_info.csv\")"
      ],
      "metadata": {
        "id": "fxooCWui4Fvy"
      },
      "execution_count": null,
      "outputs": []
    },
    {
      "cell_type": "code",
      "source": [
        "train.head()"
      ],
      "metadata": {
        "colab": {
          "base_uri": "https://localhost:8080/",
          "height": 300
        },
        "id": "Hp7C5HnO0ysi",
        "outputId": "02a924c1-d2da-493b-ef2c-cbd34163c364"
      },
      "execution_count": null,
      "outputs": [
        {
          "output_type": "execute_result",
          "data": {
            "text/plain": [
              "          id  father  mother  gender  trait SNP_01 SNP_02 SNP_03 SNP_04  \\\n",
              "0  TRAIN_000       0       0       0      2    G G    A G    A A    G A   \n",
              "1  TRAIN_001       0       0       0      2    A G    A G    C A    A A   \n",
              "2  TRAIN_002       0       0       0      2    G G    G G    A A    G A   \n",
              "3  TRAIN_003       0       0       0      1    A A    G G    A A    G A   \n",
              "4  TRAIN_004       0       0       0      2    G G    G G    C C    A A   \n",
              "\n",
              "  SNP_05  ... SNP_07 SNP_08 SNP_09 SNP_10 SNP_11 SNP_12 SNP_13 SNP_14 SNP_15  \\\n",
              "0    C A  ...    A A    G G    A A    G G    A G    A A    A A    A A    A A   \n",
              "1    A A  ...    A A    G A    A A    A G    A A    G A    G G    A A    A A   \n",
              "2    C C  ...    A A    G A    G A    A G    A A    A A    A A    A A    A A   \n",
              "3    A A  ...    G G    A A    G G    A G    G G    G G    G G    A A    G G   \n",
              "4    C C  ...    A A    A A    A A    G G    A A    A A    A G    A A    G A   \n",
              "\n",
              "  class  \n",
              "0     B  \n",
              "1     C  \n",
              "2     B  \n",
              "3     A  \n",
              "4     C  \n",
              "\n",
              "[5 rows x 21 columns]"
            ],
            "text/html": [
              "\n",
              "  <div id=\"df-972a4782-6951-4a74-b6e5-cc58ecbafbef\">\n",
              "    <div class=\"colab-df-container\">\n",
              "      <div>\n",
              "<style scoped>\n",
              "    .dataframe tbody tr th:only-of-type {\n",
              "        vertical-align: middle;\n",
              "    }\n",
              "\n",
              "    .dataframe tbody tr th {\n",
              "        vertical-align: top;\n",
              "    }\n",
              "\n",
              "    .dataframe thead th {\n",
              "        text-align: right;\n",
              "    }\n",
              "</style>\n",
              "<table border=\"1\" class=\"dataframe\">\n",
              "  <thead>\n",
              "    <tr style=\"text-align: right;\">\n",
              "      <th></th>\n",
              "      <th>id</th>\n",
              "      <th>father</th>\n",
              "      <th>mother</th>\n",
              "      <th>gender</th>\n",
              "      <th>trait</th>\n",
              "      <th>SNP_01</th>\n",
              "      <th>SNP_02</th>\n",
              "      <th>SNP_03</th>\n",
              "      <th>SNP_04</th>\n",
              "      <th>SNP_05</th>\n",
              "      <th>...</th>\n",
              "      <th>SNP_07</th>\n",
              "      <th>SNP_08</th>\n",
              "      <th>SNP_09</th>\n",
              "      <th>SNP_10</th>\n",
              "      <th>SNP_11</th>\n",
              "      <th>SNP_12</th>\n",
              "      <th>SNP_13</th>\n",
              "      <th>SNP_14</th>\n",
              "      <th>SNP_15</th>\n",
              "      <th>class</th>\n",
              "    </tr>\n",
              "  </thead>\n",
              "  <tbody>\n",
              "    <tr>\n",
              "      <th>0</th>\n",
              "      <td>TRAIN_000</td>\n",
              "      <td>0</td>\n",
              "      <td>0</td>\n",
              "      <td>0</td>\n",
              "      <td>2</td>\n",
              "      <td>G G</td>\n",
              "      <td>A G</td>\n",
              "      <td>A A</td>\n",
              "      <td>G A</td>\n",
              "      <td>C A</td>\n",
              "      <td>...</td>\n",
              "      <td>A A</td>\n",
              "      <td>G G</td>\n",
              "      <td>A A</td>\n",
              "      <td>G G</td>\n",
              "      <td>A G</td>\n",
              "      <td>A A</td>\n",
              "      <td>A A</td>\n",
              "      <td>A A</td>\n",
              "      <td>A A</td>\n",
              "      <td>B</td>\n",
              "    </tr>\n",
              "    <tr>\n",
              "      <th>1</th>\n",
              "      <td>TRAIN_001</td>\n",
              "      <td>0</td>\n",
              "      <td>0</td>\n",
              "      <td>0</td>\n",
              "      <td>2</td>\n",
              "      <td>A G</td>\n",
              "      <td>A G</td>\n",
              "      <td>C A</td>\n",
              "      <td>A A</td>\n",
              "      <td>A A</td>\n",
              "      <td>...</td>\n",
              "      <td>A A</td>\n",
              "      <td>G A</td>\n",
              "      <td>A A</td>\n",
              "      <td>A G</td>\n",
              "      <td>A A</td>\n",
              "      <td>G A</td>\n",
              "      <td>G G</td>\n",
              "      <td>A A</td>\n",
              "      <td>A A</td>\n",
              "      <td>C</td>\n",
              "    </tr>\n",
              "    <tr>\n",
              "      <th>2</th>\n",
              "      <td>TRAIN_002</td>\n",
              "      <td>0</td>\n",
              "      <td>0</td>\n",
              "      <td>0</td>\n",
              "      <td>2</td>\n",
              "      <td>G G</td>\n",
              "      <td>G G</td>\n",
              "      <td>A A</td>\n",
              "      <td>G A</td>\n",
              "      <td>C C</td>\n",
              "      <td>...</td>\n",
              "      <td>A A</td>\n",
              "      <td>G A</td>\n",
              "      <td>G A</td>\n",
              "      <td>A G</td>\n",
              "      <td>A A</td>\n",
              "      <td>A A</td>\n",
              "      <td>A A</td>\n",
              "      <td>A A</td>\n",
              "      <td>A A</td>\n",
              "      <td>B</td>\n",
              "    </tr>\n",
              "    <tr>\n",
              "      <th>3</th>\n",
              "      <td>TRAIN_003</td>\n",
              "      <td>0</td>\n",
              "      <td>0</td>\n",
              "      <td>0</td>\n",
              "      <td>1</td>\n",
              "      <td>A A</td>\n",
              "      <td>G G</td>\n",
              "      <td>A A</td>\n",
              "      <td>G A</td>\n",
              "      <td>A A</td>\n",
              "      <td>...</td>\n",
              "      <td>G G</td>\n",
              "      <td>A A</td>\n",
              "      <td>G G</td>\n",
              "      <td>A G</td>\n",
              "      <td>G G</td>\n",
              "      <td>G G</td>\n",
              "      <td>G G</td>\n",
              "      <td>A A</td>\n",
              "      <td>G G</td>\n",
              "      <td>A</td>\n",
              "    </tr>\n",
              "    <tr>\n",
              "      <th>4</th>\n",
              "      <td>TRAIN_004</td>\n",
              "      <td>0</td>\n",
              "      <td>0</td>\n",
              "      <td>0</td>\n",
              "      <td>2</td>\n",
              "      <td>G G</td>\n",
              "      <td>G G</td>\n",
              "      <td>C C</td>\n",
              "      <td>A A</td>\n",
              "      <td>C C</td>\n",
              "      <td>...</td>\n",
              "      <td>A A</td>\n",
              "      <td>A A</td>\n",
              "      <td>A A</td>\n",
              "      <td>G G</td>\n",
              "      <td>A A</td>\n",
              "      <td>A A</td>\n",
              "      <td>A G</td>\n",
              "      <td>A A</td>\n",
              "      <td>G A</td>\n",
              "      <td>C</td>\n",
              "    </tr>\n",
              "  </tbody>\n",
              "</table>\n",
              "<p>5 rows × 21 columns</p>\n",
              "</div>\n",
              "      <button class=\"colab-df-convert\" onclick=\"convertToInteractive('df-972a4782-6951-4a74-b6e5-cc58ecbafbef')\"\n",
              "              title=\"Convert this dataframe to an interactive table.\"\n",
              "              style=\"display:none;\">\n",
              "        \n",
              "  <svg xmlns=\"http://www.w3.org/2000/svg\" height=\"24px\"viewBox=\"0 0 24 24\"\n",
              "       width=\"24px\">\n",
              "    <path d=\"M0 0h24v24H0V0z\" fill=\"none\"/>\n",
              "    <path d=\"M18.56 5.44l.94 2.06.94-2.06 2.06-.94-2.06-.94-.94-2.06-.94 2.06-2.06.94zm-11 1L8.5 8.5l.94-2.06 2.06-.94-2.06-.94L8.5 2.5l-.94 2.06-2.06.94zm10 10l.94 2.06.94-2.06 2.06-.94-2.06-.94-.94-2.06-.94 2.06-2.06.94z\"/><path d=\"M17.41 7.96l-1.37-1.37c-.4-.4-.92-.59-1.43-.59-.52 0-1.04.2-1.43.59L10.3 9.45l-7.72 7.72c-.78.78-.78 2.05 0 2.83L4 21.41c.39.39.9.59 1.41.59.51 0 1.02-.2 1.41-.59l7.78-7.78 2.81-2.81c.8-.78.8-2.07 0-2.86zM5.41 20L4 18.59l7.72-7.72 1.47 1.35L5.41 20z\"/>\n",
              "  </svg>\n",
              "      </button>\n",
              "      \n",
              "  <style>\n",
              "    .colab-df-container {\n",
              "      display:flex;\n",
              "      flex-wrap:wrap;\n",
              "      gap: 12px;\n",
              "    }\n",
              "\n",
              "    .colab-df-convert {\n",
              "      background-color: #E8F0FE;\n",
              "      border: none;\n",
              "      border-radius: 50%;\n",
              "      cursor: pointer;\n",
              "      display: none;\n",
              "      fill: #1967D2;\n",
              "      height: 32px;\n",
              "      padding: 0 0 0 0;\n",
              "      width: 32px;\n",
              "    }\n",
              "\n",
              "    .colab-df-convert:hover {\n",
              "      background-color: #E2EBFA;\n",
              "      box-shadow: 0px 1px 2px rgba(60, 64, 67, 0.3), 0px 1px 3px 1px rgba(60, 64, 67, 0.15);\n",
              "      fill: #174EA6;\n",
              "    }\n",
              "\n",
              "    [theme=dark] .colab-df-convert {\n",
              "      background-color: #3B4455;\n",
              "      fill: #D2E3FC;\n",
              "    }\n",
              "\n",
              "    [theme=dark] .colab-df-convert:hover {\n",
              "      background-color: #434B5C;\n",
              "      box-shadow: 0px 1px 3px 1px rgba(0, 0, 0, 0.15);\n",
              "      filter: drop-shadow(0px 1px 2px rgba(0, 0, 0, 0.3));\n",
              "      fill: #FFFFFF;\n",
              "    }\n",
              "  </style>\n",
              "\n",
              "      <script>\n",
              "        const buttonEl =\n",
              "          document.querySelector('#df-972a4782-6951-4a74-b6e5-cc58ecbafbef button.colab-df-convert');\n",
              "        buttonEl.style.display =\n",
              "          google.colab.kernel.accessAllowed ? 'block' : 'none';\n",
              "\n",
              "        async function convertToInteractive(key) {\n",
              "          const element = document.querySelector('#df-972a4782-6951-4a74-b6e5-cc58ecbafbef');\n",
              "          const dataTable =\n",
              "            await google.colab.kernel.invokeFunction('convertToInteractive',\n",
              "                                                     [key], {});\n",
              "          if (!dataTable) return;\n",
              "\n",
              "          const docLinkHtml = 'Like what you see? Visit the ' +\n",
              "            '<a target=\"_blank\" href=https://colab.research.google.com/notebooks/data_table.ipynb>data table notebook</a>'\n",
              "            + ' to learn more about interactive tables.';\n",
              "          element.innerHTML = '';\n",
              "          dataTable['output_type'] = 'display_data';\n",
              "          await google.colab.output.renderOutput(dataTable, element);\n",
              "          const docLink = document.createElement('div');\n",
              "          docLink.innerHTML = docLinkHtml;\n",
              "          element.appendChild(docLink);\n",
              "        }\n",
              "      </script>\n",
              "    </div>\n",
              "  </div>\n",
              "  "
            ]
          },
          "metadata": {},
          "execution_count": 179
        }
      ]
    },
    {
      "cell_type": "code",
      "source": [
        "train[\"SNP_01_05\"] = (train['SNP_01'].astype(str)+ \"_\"+ train['SNP_05'].astype(str))\n",
        "test[\"SNP_01_05\"] = (test['SNP_01'].astype(str)+ \"_\"+ test['SNP_05'].astype(str))\n",
        "train.head()"
      ],
      "metadata": {
        "colab": {
          "base_uri": "https://localhost:8080/",
          "height": 300
        },
        "id": "Sz7120eLz20X",
        "outputId": "ce4bf17b-37ef-4a92-9d44-3b902b45bedc"
      },
      "execution_count": null,
      "outputs": [
        {
          "output_type": "execute_result",
          "data": {
            "text/plain": [
              "          id  father  mother  gender  trait SNP_01 SNP_02 SNP_03 SNP_04  \\\n",
              "0  TRAIN_000       0       0       0      2    G G    A G    A A    G A   \n",
              "1  TRAIN_001       0       0       0      2    A G    A G    C A    A A   \n",
              "2  TRAIN_002       0       0       0      2    G G    G G    A A    G A   \n",
              "3  TRAIN_003       0       0       0      1    A A    G G    A A    G A   \n",
              "4  TRAIN_004       0       0       0      2    G G    G G    C C    A A   \n",
              "\n",
              "  SNP_05  ... SNP_08 SNP_09 SNP_10 SNP_11 SNP_12 SNP_13 SNP_14 SNP_15 class  \\\n",
              "0    C A  ...    G G    A A    G G    A G    A A    A A    A A    A A     B   \n",
              "1    A A  ...    G A    A A    A G    A A    G A    G G    A A    A A     C   \n",
              "2    C C  ...    G A    G A    A G    A A    A A    A A    A A    A A     B   \n",
              "3    A A  ...    A A    G G    A G    G G    G G    G G    A A    G G     A   \n",
              "4    C C  ...    A A    A A    G G    A A    A A    A G    A A    G A     C   \n",
              "\n",
              "  SNP_01_05  \n",
              "0   G G_C A  \n",
              "1   A G_A A  \n",
              "2   G G_C C  \n",
              "3   A A_A A  \n",
              "4   G G_C C  \n",
              "\n",
              "[5 rows x 22 columns]"
            ],
            "text/html": [
              "\n",
              "  <div id=\"df-bf329e2a-c170-4d17-9ed0-abbdcc5f796c\">\n",
              "    <div class=\"colab-df-container\">\n",
              "      <div>\n",
              "<style scoped>\n",
              "    .dataframe tbody tr th:only-of-type {\n",
              "        vertical-align: middle;\n",
              "    }\n",
              "\n",
              "    .dataframe tbody tr th {\n",
              "        vertical-align: top;\n",
              "    }\n",
              "\n",
              "    .dataframe thead th {\n",
              "        text-align: right;\n",
              "    }\n",
              "</style>\n",
              "<table border=\"1\" class=\"dataframe\">\n",
              "  <thead>\n",
              "    <tr style=\"text-align: right;\">\n",
              "      <th></th>\n",
              "      <th>id</th>\n",
              "      <th>father</th>\n",
              "      <th>mother</th>\n",
              "      <th>gender</th>\n",
              "      <th>trait</th>\n",
              "      <th>SNP_01</th>\n",
              "      <th>SNP_02</th>\n",
              "      <th>SNP_03</th>\n",
              "      <th>SNP_04</th>\n",
              "      <th>SNP_05</th>\n",
              "      <th>...</th>\n",
              "      <th>SNP_08</th>\n",
              "      <th>SNP_09</th>\n",
              "      <th>SNP_10</th>\n",
              "      <th>SNP_11</th>\n",
              "      <th>SNP_12</th>\n",
              "      <th>SNP_13</th>\n",
              "      <th>SNP_14</th>\n",
              "      <th>SNP_15</th>\n",
              "      <th>class</th>\n",
              "      <th>SNP_01_05</th>\n",
              "    </tr>\n",
              "  </thead>\n",
              "  <tbody>\n",
              "    <tr>\n",
              "      <th>0</th>\n",
              "      <td>TRAIN_000</td>\n",
              "      <td>0</td>\n",
              "      <td>0</td>\n",
              "      <td>0</td>\n",
              "      <td>2</td>\n",
              "      <td>G G</td>\n",
              "      <td>A G</td>\n",
              "      <td>A A</td>\n",
              "      <td>G A</td>\n",
              "      <td>C A</td>\n",
              "      <td>...</td>\n",
              "      <td>G G</td>\n",
              "      <td>A A</td>\n",
              "      <td>G G</td>\n",
              "      <td>A G</td>\n",
              "      <td>A A</td>\n",
              "      <td>A A</td>\n",
              "      <td>A A</td>\n",
              "      <td>A A</td>\n",
              "      <td>B</td>\n",
              "      <td>G G_C A</td>\n",
              "    </tr>\n",
              "    <tr>\n",
              "      <th>1</th>\n",
              "      <td>TRAIN_001</td>\n",
              "      <td>0</td>\n",
              "      <td>0</td>\n",
              "      <td>0</td>\n",
              "      <td>2</td>\n",
              "      <td>A G</td>\n",
              "      <td>A G</td>\n",
              "      <td>C A</td>\n",
              "      <td>A A</td>\n",
              "      <td>A A</td>\n",
              "      <td>...</td>\n",
              "      <td>G A</td>\n",
              "      <td>A A</td>\n",
              "      <td>A G</td>\n",
              "      <td>A A</td>\n",
              "      <td>G A</td>\n",
              "      <td>G G</td>\n",
              "      <td>A A</td>\n",
              "      <td>A A</td>\n",
              "      <td>C</td>\n",
              "      <td>A G_A A</td>\n",
              "    </tr>\n",
              "    <tr>\n",
              "      <th>2</th>\n",
              "      <td>TRAIN_002</td>\n",
              "      <td>0</td>\n",
              "      <td>0</td>\n",
              "      <td>0</td>\n",
              "      <td>2</td>\n",
              "      <td>G G</td>\n",
              "      <td>G G</td>\n",
              "      <td>A A</td>\n",
              "      <td>G A</td>\n",
              "      <td>C C</td>\n",
              "      <td>...</td>\n",
              "      <td>G A</td>\n",
              "      <td>G A</td>\n",
              "      <td>A G</td>\n",
              "      <td>A A</td>\n",
              "      <td>A A</td>\n",
              "      <td>A A</td>\n",
              "      <td>A A</td>\n",
              "      <td>A A</td>\n",
              "      <td>B</td>\n",
              "      <td>G G_C C</td>\n",
              "    </tr>\n",
              "    <tr>\n",
              "      <th>3</th>\n",
              "      <td>TRAIN_003</td>\n",
              "      <td>0</td>\n",
              "      <td>0</td>\n",
              "      <td>0</td>\n",
              "      <td>1</td>\n",
              "      <td>A A</td>\n",
              "      <td>G G</td>\n",
              "      <td>A A</td>\n",
              "      <td>G A</td>\n",
              "      <td>A A</td>\n",
              "      <td>...</td>\n",
              "      <td>A A</td>\n",
              "      <td>G G</td>\n",
              "      <td>A G</td>\n",
              "      <td>G G</td>\n",
              "      <td>G G</td>\n",
              "      <td>G G</td>\n",
              "      <td>A A</td>\n",
              "      <td>G G</td>\n",
              "      <td>A</td>\n",
              "      <td>A A_A A</td>\n",
              "    </tr>\n",
              "    <tr>\n",
              "      <th>4</th>\n",
              "      <td>TRAIN_004</td>\n",
              "      <td>0</td>\n",
              "      <td>0</td>\n",
              "      <td>0</td>\n",
              "      <td>2</td>\n",
              "      <td>G G</td>\n",
              "      <td>G G</td>\n",
              "      <td>C C</td>\n",
              "      <td>A A</td>\n",
              "      <td>C C</td>\n",
              "      <td>...</td>\n",
              "      <td>A A</td>\n",
              "      <td>A A</td>\n",
              "      <td>G G</td>\n",
              "      <td>A A</td>\n",
              "      <td>A A</td>\n",
              "      <td>A G</td>\n",
              "      <td>A A</td>\n",
              "      <td>G A</td>\n",
              "      <td>C</td>\n",
              "      <td>G G_C C</td>\n",
              "    </tr>\n",
              "  </tbody>\n",
              "</table>\n",
              "<p>5 rows × 22 columns</p>\n",
              "</div>\n",
              "      <button class=\"colab-df-convert\" onclick=\"convertToInteractive('df-bf329e2a-c170-4d17-9ed0-abbdcc5f796c')\"\n",
              "              title=\"Convert this dataframe to an interactive table.\"\n",
              "              style=\"display:none;\">\n",
              "        \n",
              "  <svg xmlns=\"http://www.w3.org/2000/svg\" height=\"24px\"viewBox=\"0 0 24 24\"\n",
              "       width=\"24px\">\n",
              "    <path d=\"M0 0h24v24H0V0z\" fill=\"none\"/>\n",
              "    <path d=\"M18.56 5.44l.94 2.06.94-2.06 2.06-.94-2.06-.94-.94-2.06-.94 2.06-2.06.94zm-11 1L8.5 8.5l.94-2.06 2.06-.94-2.06-.94L8.5 2.5l-.94 2.06-2.06.94zm10 10l.94 2.06.94-2.06 2.06-.94-2.06-.94-.94-2.06-.94 2.06-2.06.94z\"/><path d=\"M17.41 7.96l-1.37-1.37c-.4-.4-.92-.59-1.43-.59-.52 0-1.04.2-1.43.59L10.3 9.45l-7.72 7.72c-.78.78-.78 2.05 0 2.83L4 21.41c.39.39.9.59 1.41.59.51 0 1.02-.2 1.41-.59l7.78-7.78 2.81-2.81c.8-.78.8-2.07 0-2.86zM5.41 20L4 18.59l7.72-7.72 1.47 1.35L5.41 20z\"/>\n",
              "  </svg>\n",
              "      </button>\n",
              "      \n",
              "  <style>\n",
              "    .colab-df-container {\n",
              "      display:flex;\n",
              "      flex-wrap:wrap;\n",
              "      gap: 12px;\n",
              "    }\n",
              "\n",
              "    .colab-df-convert {\n",
              "      background-color: #E8F0FE;\n",
              "      border: none;\n",
              "      border-radius: 50%;\n",
              "      cursor: pointer;\n",
              "      display: none;\n",
              "      fill: #1967D2;\n",
              "      height: 32px;\n",
              "      padding: 0 0 0 0;\n",
              "      width: 32px;\n",
              "    }\n",
              "\n",
              "    .colab-df-convert:hover {\n",
              "      background-color: #E2EBFA;\n",
              "      box-shadow: 0px 1px 2px rgba(60, 64, 67, 0.3), 0px 1px 3px 1px rgba(60, 64, 67, 0.15);\n",
              "      fill: #174EA6;\n",
              "    }\n",
              "\n",
              "    [theme=dark] .colab-df-convert {\n",
              "      background-color: #3B4455;\n",
              "      fill: #D2E3FC;\n",
              "    }\n",
              "\n",
              "    [theme=dark] .colab-df-convert:hover {\n",
              "      background-color: #434B5C;\n",
              "      box-shadow: 0px 1px 3px 1px rgba(0, 0, 0, 0.15);\n",
              "      filter: drop-shadow(0px 1px 2px rgba(0, 0, 0, 0.3));\n",
              "      fill: #FFFFFF;\n",
              "    }\n",
              "  </style>\n",
              "\n",
              "      <script>\n",
              "        const buttonEl =\n",
              "          document.querySelector('#df-bf329e2a-c170-4d17-9ed0-abbdcc5f796c button.colab-df-convert');\n",
              "        buttonEl.style.display =\n",
              "          google.colab.kernel.accessAllowed ? 'block' : 'none';\n",
              "\n",
              "        async function convertToInteractive(key) {\n",
              "          const element = document.querySelector('#df-bf329e2a-c170-4d17-9ed0-abbdcc5f796c');\n",
              "          const dataTable =\n",
              "            await google.colab.kernel.invokeFunction('convertToInteractive',\n",
              "                                                     [key], {});\n",
              "          if (!dataTable) return;\n",
              "\n",
              "          const docLinkHtml = 'Like what you see? Visit the ' +\n",
              "            '<a target=\"_blank\" href=https://colab.research.google.com/notebooks/data_table.ipynb>data table notebook</a>'\n",
              "            + ' to learn more about interactive tables.';\n",
              "          element.innerHTML = '';\n",
              "          dataTable['output_type'] = 'display_data';\n",
              "          await google.colab.output.renderOutput(dataTable, element);\n",
              "          const docLink = document.createElement('div');\n",
              "          docLink.innerHTML = docLinkHtml;\n",
              "          element.appendChild(docLink);\n",
              "        }\n",
              "      </script>\n",
              "    </div>\n",
              "  </div>\n",
              "  "
            ]
          },
          "metadata": {},
          "execution_count": 180
        }
      ]
    },
    {
      "cell_type": "code",
      "source": [
        "# train[\"SNP_01_05\"] = (train['SNP_01'].astype(str)+ train['SNP_05'].astype(str))\n",
        "# test[\"SNP_01_05\"] = (test['SNP_01'].astype(str)+ test['SNP_05'].astype(str))\n",
        "# train.head()"
      ],
      "metadata": {
        "id": "b_RbP95A7GG2"
      },
      "execution_count": null,
      "outputs": []
    },
    {
      "cell_type": "code",
      "source": [
        "train[\"SNP_01_05\"].astype(object)\n",
        "test[\"SNP_01_05\"].astype(object)"
      ],
      "metadata": {
        "colab": {
          "base_uri": "https://localhost:8080/"
        },
        "id": "047Sj8jwM5CN",
        "outputId": "863a4e73-6c3f-468f-c53c-55fa45765085"
      },
      "execution_count": null,
      "outputs": [
        {
          "output_type": "execute_result",
          "data": {
            "text/plain": [
              "0      A G_A A\n",
              "1      G G_C C\n",
              "2      G G_C A\n",
              "3      G G_C C\n",
              "4      A A_A A\n",
              "        ...   \n",
              "170    A G_C A\n",
              "171    G G_C A\n",
              "172    G G_C A\n",
              "173    A G_C C\n",
              "174    G G_C A\n",
              "Name: SNP_01_05, Length: 175, dtype: object"
            ]
          },
          "metadata": {},
          "execution_count": 182
        }
      ]
    },
    {
      "cell_type": "code",
      "source": [
        "train_new = train.drop(['SNP_01','SNP_05'], axis=1)\n",
        "test_new = test.drop(['SNP_01','SNP_05'], axis=1)"
      ],
      "metadata": {
        "id": "TEfvffC_2wYA"
      },
      "execution_count": null,
      "outputs": []
    },
    {
      "cell_type": "code",
      "source": [
        "train_x, train_y = get_x_y(train_new)\n",
        "test_x = get_x_y(test_new)"
      ],
      "metadata": {
        "id": "KwUK3YhX3_2t"
      },
      "execution_count": null,
      "outputs": []
    },
    {
      "cell_type": "markdown",
      "source": [
        "### **Label-Encoding**"
      ],
      "metadata": {
        "id": "Byv6rVVg4e3i"
      }
    },
    {
      "cell_type": "code",
      "source": [
        "class_le = preprocessing.LabelEncoder()\n",
        "snp_le_train = preprocessing.LabelEncoder()\n",
        "snp_le_test = preprocessing.LabelEncoder()\n",
        "snp_col = ['SNP_02','SNP_03','SNP_04','SNP_06','SNP_07','SNP_08','SNP_09','SNP_10','SNP_11','SNP_12','SNP_13','SNP_14','SNP_15','SNP_01_05']"
      ],
      "metadata": {
        "id": "vpxDIiiH4e3i"
      },
      "execution_count": null,
      "outputs": []
    },
    {
      "cell_type": "code",
      "source": [
        "snp_data_train = []\n",
        "for col in snp_col:\n",
        "    snp_data_train += list(train_x[col].values)"
      ],
      "metadata": {
        "id": "G6tA2eKD4e3i"
      },
      "execution_count": null,
      "outputs": []
    },
    {
      "cell_type": "code",
      "source": [
        "snp_data_test = []\n",
        "for col in snp_col:\n",
        "    snp_data_test += list(test_x[col].values)"
      ],
      "metadata": {
        "id": "CLWGQLk2HeV8"
      },
      "execution_count": null,
      "outputs": []
    },
    {
      "cell_type": "code",
      "source": [
        "train_y = class_le.fit_transform(train_y)\n",
        "snp_le_train.fit(snp_data_train)\n",
        "snp_le_test.fit(snp_data_test)"
      ],
      "metadata": {
        "colab": {
          "base_uri": "https://localhost:8080/"
        },
        "outputId": "1a231224-eeee-40e9-9c82-efa10d6a8366",
        "id": "91ZKnvin4e3i"
      },
      "execution_count": null,
      "outputs": [
        {
          "output_type": "execute_result",
          "data": {
            "text/plain": [
              "LabelEncoder()"
            ]
          },
          "metadata": {},
          "execution_count": 188
        }
      ]
    },
    {
      "cell_type": "code",
      "source": [
        "for col in train_x.columns:\n",
        "    if col in snp_col:\n",
        "        train_x[col] = snp_le_train.transform(train_x[col])"
      ],
      "metadata": {
        "id": "tsP_qQDc4e3j"
      },
      "execution_count": null,
      "outputs": []
    },
    {
      "cell_type": "code",
      "source": [
        "for col in test_x.columns:\n",
        "    if col in snp_col:\n",
        "        test_x[col] = snp_le_test.transform(test_x[col])"
      ],
      "metadata": {
        "id": "4ikajqW2IL3h"
      },
      "execution_count": null,
      "outputs": []
    },
    {
      "cell_type": "code",
      "source": [
        "train_x['SNP_01_05'].value_counts()"
      ],
      "metadata": {
        "colab": {
          "base_uri": "https://localhost:8080/"
        },
        "id": "bNl_ee05MlEO",
        "outputId": "ec3d2601-9dca-4f14-de7a-709ca65de33a"
      },
      "execution_count": null,
      "outputs": [
        {
          "output_type": "execute_result",
          "data": {
            "text/plain": [
              "13    62\n",
              "12    50\n",
              "1     38\n",
              "11    29\n",
              "4     27\n",
              "5     24\n",
              "6     20\n",
              "2     12\n",
              "Name: SNP_01_05, dtype: int64"
            ]
          },
          "metadata": {},
          "execution_count": 191
        }
      ]
    },
    {
      "cell_type": "code",
      "source": [
        "#train, test dataset 분리\n",
        "from sklearn.model_selection import train_test_split\n",
        "X_train, X_tr_test, y_train, y_tr_test = train_test_split(train_x, train_y, test_size=0.2, random_state=156)"
      ],
      "metadata": {
        "id": "IIA-yY3g2-RI"
      },
      "execution_count": null,
      "outputs": []
    },
    {
      "cell_type": "code",
      "source": [
        "from sklearn.ensemble import GradientBoostingClassifier\n",
        "gbm_clf = GradientBoostingClassifier()\n",
        "get_model_train_eval(gbm_clf, ftr_train=X_train, ftr_test=X_tr_test, tgt_train=y_train, tgt_test=y_tr_test)"
      ],
      "metadata": {
        "colab": {
          "base_uri": "https://localhost:8080/"
        },
        "id": "9sltkCMt4MHM",
        "outputId": "10d47a59-e664-451f-df2e-7b1936813b5c"
      },
      "execution_count": null,
      "outputs": [
        {
          "output_type": "stream",
          "name": "stdout",
          "text": [
            "오차 행렬\n",
            "[[11  0  0]\n",
            " [ 0 24  1]\n",
            " [ 0  1 16]]\n",
            "정확도: 0.9623, 정밀도: 0.9671, 재현율: 0.9671, F1: 0.9671\n"
          ]
        }
      ]
    },
    {
      "cell_type": "markdown",
      "source": [
        "##**6. 제출**"
      ],
      "metadata": {
        "id": "jNgmYU4X6hYk"
      }
    },
    {
      "cell_type": "code",
      "source": [
        "# 개별 모델을 소프트 보팅 기반의 앙상블 모델로 구현한 분류기 \n",
        "from sklearn.ensemble import VotingClassifier\n",
        "vo_clf = VotingClassifier(estimators=[('RF',rf_clf),('XGB',xgb_clf),('GBM',gbm_clf),('LGBM',lgbm_clf)] , voting='soft')\n",
        "\n",
        "get_model_train_eval(vo_clf, ftr_train=X_train, ftr_test=X_tr_test, tgt_train=y_train, tgt_test=y_tr_test)\n",
        "\n",
        "# VotingClassifier 학습/예측/평가\n",
        "vo_clf.fit(X_train , y_train)\n",
        "preds_voting = vo_clf.predict(X_tr_test)\n",
        "print('Voting 분류기 정확도: {0:.4f}'.format(f1_score(y_tr_test , preds_voting, average='macro')))\n",
        "\n",
        "# 개별 모델의 학습/예측/평가\n",
        "classifiers = [rf_clf,xgb_clf,gbm_clf,lgbm_clf]\n",
        "for classifier in classifiers:\n",
        "    class_name= classifier.__class__.__name__\n",
        "    print('{0} 정확도: {1:.4f}'.format(class_name, f1_score(y_tr_test , preds_voting, average='macro')))"
      ],
      "metadata": {
        "id": "yoqvBJCwgnnK",
        "colab": {
          "base_uri": "https://localhost:8080/"
        },
        "outputId": "38b5f84c-3890-44c7-fa3b-57d644ea0b25"
      },
      "execution_count": null,
      "outputs": [
        {
          "output_type": "stream",
          "name": "stdout",
          "text": [
            "오차 행렬\n",
            "[[11  0  0]\n",
            " [ 0 25  0]\n",
            " [ 0  1 16]]\n",
            "정확도: 0.9811, 정밀도: 0.9872, 재현율: 0.9804, F1: 0.9834\n",
            "Voting 분류기 정확도: 0.9834\n",
            "RandomForestClassifier 정확도: 0.9834\n",
            "XGBClassifier 정확도: 0.9834\n",
            "GradientBoostingClassifier 정확도: 0.9834\n",
            "LGBMClassifier 정확도: 0.9834\n"
          ]
        }
      ]
    },
    {
      "cell_type": "code",
      "source": [
        "# submit = pd.read_csv('/content/drive/MyDrive/ESAA/방학/DATA/sample_submission.csv')"
      ],
      "metadata": {
        "id": "yXPjDLE7hXCD"
      },
      "execution_count": null,
      "outputs": []
    },
    {
      "cell_type": "code",
      "source": [
        "preds_voting_1 = vo_clf.predict(test_x)\n",
        "# submit['class'] = class_le.inverse_transform(preds_voting_1)"
      ],
      "metadata": {
        "id": "OtYlMNUqhYNC"
      },
      "execution_count": null,
      "outputs": []
    },
    {
      "cell_type": "code",
      "source": [
        "# submit.to_csv('/content/drive/MyDrive/ESAA/방학/DATA/submit_voting_1.csv', index=False)"
      ],
      "metadata": {
        "id": "hyRa7RCLhZZu"
      },
      "execution_count": null,
      "outputs": []
    }
  ]
}